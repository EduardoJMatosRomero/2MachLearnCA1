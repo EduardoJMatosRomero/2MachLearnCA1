{
 "cells": [
  {
   "cell_type": "markdown",
   "id": "029e294b",
   "metadata": {},
   "source": [
    "In the retail sector, it is possible to unlock insights to win and retain customers, drive business efficiencies, and ultimately improve sales and customer interest. Retail organizations are using advanced analysis to understand their customers, improve forecasting, and achieve better, faster results. As a company's resources are limited, it is crucial to identify and target customers to secure their loyalty, enhance business efficiency, and ultimately improve performance."
   ]
  },
  {
   "cell_type": "markdown",
   "id": "a909c930",
   "metadata": {},
   "source": [
    "You have been given access to a dataset containing customer transactions for an online retailer and tasked with using your machine learning tools to gain and report on business insights. The audience for this report are non-specialists.  In particular, your tasks are:\n",
    "\n",
    "Clustering\n",
    "Apply and evaluate various clustering techniques with the aim of generating actionable insights from the data. \n",
    "\n",
    "●\tSelect and justify the features you will be using.\n",
    "\n",
    "●\tApply appropriate clustering algorithms to the dataset.\n",
    "\n",
    "●\tEvaluate the performance of the algorithms and make a recommendation as to which gives the “best” results.\n",
    "\n",
    "●\tInclude in your report your own interpretation of the results.\n",
    "\n",
    "Market Basket Analysis\n",
    "Perform a market basket analysis of the transaction data. \n",
    "\n",
    "●\tInclude in your report a comparison and evaluation of at least two algorithms.\n",
    "\n",
    "●\tInclude in your report your own interpretation of the results.\n"
   ]
  },
  {
   "cell_type": "code",
   "execution_count": 1,
   "id": "06c9a74f",
   "metadata": {},
   "outputs": [],
   "source": [
    "import numpy as np \n",
    "import pandas as pd\n",
    "import matplotlib.pyplot as plt \n",
    "import seaborn as sns"
   ]
  },
  {
   "cell_type": "code",
   "execution_count": 2,
   "id": "f0699741",
   "metadata": {},
   "outputs": [
    {
     "data": {
      "text/html": [
       "<div>\n",
       "<style scoped>\n",
       "    .dataframe tbody tr th:only-of-type {\n",
       "        vertical-align: middle;\n",
       "    }\n",
       "\n",
       "    .dataframe tbody tr th {\n",
       "        vertical-align: top;\n",
       "    }\n",
       "\n",
       "    .dataframe thead th {\n",
       "        text-align: right;\n",
       "    }\n",
       "</style>\n",
       "<table border=\"1\" class=\"dataframe\">\n",
       "  <thead>\n",
       "    <tr style=\"text-align: right;\">\n",
       "      <th></th>\n",
       "      <th>Invoice</th>\n",
       "      <th>StockCode</th>\n",
       "      <th>Description</th>\n",
       "      <th>Quantity</th>\n",
       "      <th>InvoiceDate</th>\n",
       "      <th>Price</th>\n",
       "      <th>Customer ID</th>\n",
       "      <th>Country</th>\n",
       "    </tr>\n",
       "  </thead>\n",
       "  <tbody>\n",
       "    <tr>\n",
       "      <th>0</th>\n",
       "      <td>489434</td>\n",
       "      <td>85048</td>\n",
       "      <td>15CM CHRISTMAS GLASS BALL 20 LIGHTS</td>\n",
       "      <td>12</td>\n",
       "      <td>2009-12-01 07:45:00</td>\n",
       "      <td>6.95</td>\n",
       "      <td>13085.0</td>\n",
       "      <td>United Kingdom</td>\n",
       "    </tr>\n",
       "    <tr>\n",
       "      <th>1</th>\n",
       "      <td>489434</td>\n",
       "      <td>79323P</td>\n",
       "      <td>PINK CHERRY LIGHTS</td>\n",
       "      <td>12</td>\n",
       "      <td>2009-12-01 07:45:00</td>\n",
       "      <td>6.75</td>\n",
       "      <td>13085.0</td>\n",
       "      <td>United Kingdom</td>\n",
       "    </tr>\n",
       "    <tr>\n",
       "      <th>2</th>\n",
       "      <td>489434</td>\n",
       "      <td>79323W</td>\n",
       "      <td>WHITE CHERRY LIGHTS</td>\n",
       "      <td>12</td>\n",
       "      <td>2009-12-01 07:45:00</td>\n",
       "      <td>6.75</td>\n",
       "      <td>13085.0</td>\n",
       "      <td>United Kingdom</td>\n",
       "    </tr>\n",
       "    <tr>\n",
       "      <th>3</th>\n",
       "      <td>489434</td>\n",
       "      <td>22041</td>\n",
       "      <td>RECORD FRAME 7\" SINGLE SIZE</td>\n",
       "      <td>48</td>\n",
       "      <td>2009-12-01 07:45:00</td>\n",
       "      <td>2.10</td>\n",
       "      <td>13085.0</td>\n",
       "      <td>United Kingdom</td>\n",
       "    </tr>\n",
       "    <tr>\n",
       "      <th>4</th>\n",
       "      <td>489434</td>\n",
       "      <td>21232</td>\n",
       "      <td>STRAWBERRY CERAMIC TRINKET BOX</td>\n",
       "      <td>24</td>\n",
       "      <td>2009-12-01 07:45:00</td>\n",
       "      <td>1.25</td>\n",
       "      <td>13085.0</td>\n",
       "      <td>United Kingdom</td>\n",
       "    </tr>\n",
       "  </tbody>\n",
       "</table>\n",
       "</div>"
      ],
      "text/plain": [
       "  Invoice StockCode                          Description  Quantity  \\\n",
       "0  489434     85048  15CM CHRISTMAS GLASS BALL 20 LIGHTS        12   \n",
       "1  489434    79323P                   PINK CHERRY LIGHTS        12   \n",
       "2  489434    79323W                  WHITE CHERRY LIGHTS        12   \n",
       "3  489434     22041         RECORD FRAME 7\" SINGLE SIZE         48   \n",
       "4  489434     21232       STRAWBERRY CERAMIC TRINKET BOX        24   \n",
       "\n",
       "          InvoiceDate  Price  Customer ID         Country  \n",
       "0 2009-12-01 07:45:00   6.95      13085.0  United Kingdom  \n",
       "1 2009-12-01 07:45:00   6.75      13085.0  United Kingdom  \n",
       "2 2009-12-01 07:45:00   6.75      13085.0  United Kingdom  \n",
       "3 2009-12-01 07:45:00   2.10      13085.0  United Kingdom  \n",
       "4 2009-12-01 07:45:00   1.25      13085.0  United Kingdom  "
      ]
     },
     "execution_count": 2,
     "metadata": {},
     "output_type": "execute_result"
    }
   ],
   "source": [
    "df = pd.read_excel(\"data.xlsx\")\n",
    "df.head()"
   ]
  },
  {
   "cell_type": "markdown",
   "id": "ad6c1850",
   "metadata": {},
   "source": [
    "Note\n",
    "\n",
    "To improve readability, we have set the 'InvoiceDate' column as the index of the dataset.\n",
    "This guarantees that each row is unique, eliminating the need for the default numerical index."
   ]
  },
  {
   "cell_type": "code",
   "execution_count": 3,
   "id": "597d29c3",
   "metadata": {},
   "outputs": [
    {
     "data": {
      "text/html": [
       "<div>\n",
       "<style scoped>\n",
       "    .dataframe tbody tr th:only-of-type {\n",
       "        vertical-align: middle;\n",
       "    }\n",
       "\n",
       "    .dataframe tbody tr th {\n",
       "        vertical-align: top;\n",
       "    }\n",
       "\n",
       "    .dataframe thead th {\n",
       "        text-align: right;\n",
       "    }\n",
       "</style>\n",
       "<table border=\"1\" class=\"dataframe\">\n",
       "  <thead>\n",
       "    <tr style=\"text-align: right;\">\n",
       "      <th></th>\n",
       "      <th>Quantity</th>\n",
       "      <th>Price</th>\n",
       "      <th>Customer ID</th>\n",
       "    </tr>\n",
       "  </thead>\n",
       "  <tbody>\n",
       "    <tr>\n",
       "      <th>count</th>\n",
       "      <td>525461.000000</td>\n",
       "      <td>525461.000000</td>\n",
       "      <td>417534.000000</td>\n",
       "    </tr>\n",
       "    <tr>\n",
       "      <th>mean</th>\n",
       "      <td>10.337667</td>\n",
       "      <td>4.688834</td>\n",
       "      <td>15360.645478</td>\n",
       "    </tr>\n",
       "    <tr>\n",
       "      <th>std</th>\n",
       "      <td>107.424110</td>\n",
       "      <td>146.126914</td>\n",
       "      <td>1680.811316</td>\n",
       "    </tr>\n",
       "    <tr>\n",
       "      <th>min</th>\n",
       "      <td>-9600.000000</td>\n",
       "      <td>-53594.360000</td>\n",
       "      <td>12346.000000</td>\n",
       "    </tr>\n",
       "    <tr>\n",
       "      <th>25%</th>\n",
       "      <td>1.000000</td>\n",
       "      <td>1.250000</td>\n",
       "      <td>13983.000000</td>\n",
       "    </tr>\n",
       "    <tr>\n",
       "      <th>50%</th>\n",
       "      <td>3.000000</td>\n",
       "      <td>2.100000</td>\n",
       "      <td>15311.000000</td>\n",
       "    </tr>\n",
       "    <tr>\n",
       "      <th>75%</th>\n",
       "      <td>10.000000</td>\n",
       "      <td>4.210000</td>\n",
       "      <td>16799.000000</td>\n",
       "    </tr>\n",
       "    <tr>\n",
       "      <th>max</th>\n",
       "      <td>19152.000000</td>\n",
       "      <td>25111.090000</td>\n",
       "      <td>18287.000000</td>\n",
       "    </tr>\n",
       "  </tbody>\n",
       "</table>\n",
       "</div>"
      ],
      "text/plain": [
       "            Quantity          Price    Customer ID\n",
       "count  525461.000000  525461.000000  417534.000000\n",
       "mean       10.337667       4.688834   15360.645478\n",
       "std       107.424110     146.126914    1680.811316\n",
       "min     -9600.000000  -53594.360000   12346.000000\n",
       "25%         1.000000       1.250000   13983.000000\n",
       "50%         3.000000       2.100000   15311.000000\n",
       "75%        10.000000       4.210000   16799.000000\n",
       "max     19152.000000   25111.090000   18287.000000"
      ]
     },
     "execution_count": 3,
     "metadata": {},
     "output_type": "execute_result"
    }
   ],
   "source": [
    "df.describe()"
   ]
  },
  {
   "cell_type": "markdown",
   "id": "08aa6775",
   "metadata": {},
   "source": [
    "Note\n",
    "\n",
    "An analysis using the .describe() method reveals several noteworthy observations: \n",
    "\n",
    "- The majority of transactions involve quantities ranging from 3 to 10 items, with most items priced at £5 or less. \n",
    "\n",
    "- Negative quantities and prices are present, and some records lack CustomerID data. The majority of transactions involve quantities ranging from 3 to 10 items, with most items priced at £5 or less. \n",
    "\n",
    "- The majority of transactions involve quantities ranging from 3 to 10 items, with most items priced at £5 or less. Additionally, there are several significant outliers that require further attention."
   ]
  },
  {
   "cell_type": "code",
   "execution_count": 4,
   "id": "fa3daf50",
   "metadata": {},
   "outputs": [],
   "source": [
    "df['InvoiceDate'] = pd.to_datetime(df['InvoiceDate'])\n",
    "df = df.set_index('InvoiceDate')"
   ]
  },
  {
   "cell_type": "code",
   "execution_count": 5,
   "id": "59cdd4f7",
   "metadata": {},
   "outputs": [
    {
     "data": {
      "text/plain": [
       "(525461, 7)"
      ]
     },
     "execution_count": 5,
     "metadata": {},
     "output_type": "execute_result"
    }
   ],
   "source": [
    "df.shape"
   ]
  },
  {
   "cell_type": "markdown",
   "id": "6705bed2",
   "metadata": {},
   "source": [
    "## Exploratory Data Analysis"
   ]
  },
  {
   "cell_type": "code",
   "execution_count": 6,
   "id": "5a405d52",
   "metadata": {},
   "outputs": [
    {
     "name": "stdout",
     "output_type": "stream",
     "text": [
      "<class 'pandas.core.frame.DataFrame'>\n",
      "DatetimeIndex: 525461 entries, 2009-12-01 07:45:00 to 2010-12-09 20:01:00\n",
      "Data columns (total 7 columns):\n",
      " #   Column       Non-Null Count   Dtype  \n",
      "---  ------       --------------   -----  \n",
      " 0   Invoice      525461 non-null  object \n",
      " 1   StockCode    525461 non-null  object \n",
      " 2   Description  522533 non-null  object \n",
      " 3   Quantity     525461 non-null  int64  \n",
      " 4   Price        525461 non-null  float64\n",
      " 5   Customer ID  417534 non-null  float64\n",
      " 6   Country      525461 non-null  object \n",
      "dtypes: float64(2), int64(1), object(4)\n",
      "memory usage: 32.1+ MB\n"
     ]
    }
   ],
   "source": [
    "df.info()"
   ]
  },
  {
   "cell_type": "code",
   "execution_count": 7,
   "id": "545c271f",
   "metadata": {},
   "outputs": [
    {
     "name": "stdout",
     "output_type": "stream",
     "text": [
      "Index(['invoice', 'stockcode', 'description', 'quantity', 'price',\n",
      "       'customerId', 'country'],\n",
      "      dtype='object')\n"
     ]
    }
   ],
   "source": [
    "def to_camel_case(s):\n",
    "    # Split the string into words\n",
    "    words = s.replace('_', ' ').split()\n",
    "    # Convert the first word to lowercase and capitalize the initials of the remaining words\n",
    "    camel_case_str = words[0].lower() + ''.join(word.capitalize() for word in words[1:])\n",
    "    return camel_case_str\n",
    "\n",
    "df.columns = [to_camel_case(col) for col in df.columns]\n",
    "\n",
    "print(df.columns)"
   ]
  },
  {
   "cell_type": "code",
   "execution_count": 8,
   "id": "da3a5555",
   "metadata": {},
   "outputs": [
    {
     "data": {
      "text/plain": [
       "invoice         object\n",
       "stockcode       object\n",
       "description     object\n",
       "quantity         int64\n",
       "price          float64\n",
       "customerId     float64\n",
       "country         object\n",
       "dtype: object"
      ]
     },
     "execution_count": 8,
     "metadata": {},
     "output_type": "execute_result"
    }
   ],
   "source": [
    "df.dtypes"
   ]
  },
  {
   "cell_type": "code",
   "execution_count": 9,
   "id": "0300fa3a",
   "metadata": {},
   "outputs": [],
   "source": [
    "# # To prevent errors, converting 'Description','Invoice' and 'StockCode' to a string.\n",
    "# df['Description'] = df['Description'].astype(str)\n",
    "# df['Invoice'] = df['Invoice'].astype(str)\n",
    "# df['StockCode'] = df['StockCode'].astype(str)"
   ]
  },
  {
   "cell_type": "code",
   "execution_count": 10,
   "id": "ee0e3fb2",
   "metadata": {},
   "outputs": [
    {
     "data": {
      "text/html": [
       "<div>\n",
       "<style scoped>\n",
       "    .dataframe tbody tr th:only-of-type {\n",
       "        vertical-align: middle;\n",
       "    }\n",
       "\n",
       "    .dataframe tbody tr th {\n",
       "        vertical-align: top;\n",
       "    }\n",
       "\n",
       "    .dataframe thead th {\n",
       "        text-align: right;\n",
       "    }\n",
       "</style>\n",
       "<table border=\"1\" class=\"dataframe\">\n",
       "  <thead>\n",
       "    <tr style=\"text-align: right;\">\n",
       "      <th></th>\n",
       "      <th>quantity</th>\n",
       "      <th>price</th>\n",
       "      <th>customerId</th>\n",
       "    </tr>\n",
       "  </thead>\n",
       "  <tbody>\n",
       "    <tr>\n",
       "      <th>count</th>\n",
       "      <td>525461.000000</td>\n",
       "      <td>525461.000000</td>\n",
       "      <td>417534.000000</td>\n",
       "    </tr>\n",
       "    <tr>\n",
       "      <th>mean</th>\n",
       "      <td>10.337667</td>\n",
       "      <td>4.688834</td>\n",
       "      <td>15360.645478</td>\n",
       "    </tr>\n",
       "    <tr>\n",
       "      <th>std</th>\n",
       "      <td>107.424110</td>\n",
       "      <td>146.126914</td>\n",
       "      <td>1680.811316</td>\n",
       "    </tr>\n",
       "    <tr>\n",
       "      <th>min</th>\n",
       "      <td>-9600.000000</td>\n",
       "      <td>-53594.360000</td>\n",
       "      <td>12346.000000</td>\n",
       "    </tr>\n",
       "    <tr>\n",
       "      <th>25%</th>\n",
       "      <td>1.000000</td>\n",
       "      <td>1.250000</td>\n",
       "      <td>13983.000000</td>\n",
       "    </tr>\n",
       "    <tr>\n",
       "      <th>50%</th>\n",
       "      <td>3.000000</td>\n",
       "      <td>2.100000</td>\n",
       "      <td>15311.000000</td>\n",
       "    </tr>\n",
       "    <tr>\n",
       "      <th>75%</th>\n",
       "      <td>10.000000</td>\n",
       "      <td>4.210000</td>\n",
       "      <td>16799.000000</td>\n",
       "    </tr>\n",
       "    <tr>\n",
       "      <th>max</th>\n",
       "      <td>19152.000000</td>\n",
       "      <td>25111.090000</td>\n",
       "      <td>18287.000000</td>\n",
       "    </tr>\n",
       "  </tbody>\n",
       "</table>\n",
       "</div>"
      ],
      "text/plain": [
       "            quantity          price     customerId\n",
       "count  525461.000000  525461.000000  417534.000000\n",
       "mean       10.337667       4.688834   15360.645478\n",
       "std       107.424110     146.126914    1680.811316\n",
       "min     -9600.000000  -53594.360000   12346.000000\n",
       "25%         1.000000       1.250000   13983.000000\n",
       "50%         3.000000       2.100000   15311.000000\n",
       "75%        10.000000       4.210000   16799.000000\n",
       "max     19152.000000   25111.090000   18287.000000"
      ]
     },
     "execution_count": 10,
     "metadata": {},
     "output_type": "execute_result"
    }
   ],
   "source": [
    "df.describe()"
   ]
  },
  {
   "cell_type": "code",
   "execution_count": 11,
   "id": "160815cc",
   "metadata": {},
   "outputs": [
    {
     "data": {
      "text/plain": [
       "40"
      ]
     },
     "execution_count": 11,
     "metadata": {},
     "output_type": "execute_result"
    }
   ],
   "source": [
    "df.country.nunique()"
   ]
  },
  {
   "cell_type": "code",
   "execution_count": 12,
   "id": "998a0071",
   "metadata": {},
   "outputs": [
    {
     "data": {
      "text/plain": [
       "array(['United Kingdom', 'France', 'USA', 'Belgium', 'Australia', 'EIRE',\n",
       "       'Germany', 'Portugal', 'Japan', 'Denmark', 'Nigeria',\n",
       "       'Netherlands', 'Poland', 'Spain', 'Channel Islands', 'Italy',\n",
       "       'Cyprus', 'Greece', 'Norway', 'Austria', 'Sweden',\n",
       "       'United Arab Emirates', 'Finland', 'Switzerland', 'Unspecified',\n",
       "       'Malta', 'Bahrain', 'RSA', 'Bermuda', 'Hong Kong', 'Singapore',\n",
       "       'Thailand', 'Israel', 'Lithuania', 'West Indies', 'Lebanon',\n",
       "       'Korea', 'Brazil', 'Canada', 'Iceland'], dtype=object)"
      ]
     },
     "execution_count": 12,
     "metadata": {},
     "output_type": "execute_result"
    }
   ],
   "source": [
    "df.country.unique()"
   ]
  },
  {
   "cell_type": "code",
   "execution_count": 13,
   "id": "eda51f6c",
   "metadata": {},
   "outputs": [
    {
     "data": {
      "text/html": [
       "<div>\n",
       "<style scoped>\n",
       "    .dataframe tbody tr th:only-of-type {\n",
       "        vertical-align: middle;\n",
       "    }\n",
       "\n",
       "    .dataframe tbody tr th {\n",
       "        vertical-align: top;\n",
       "    }\n",
       "\n",
       "    .dataframe thead th {\n",
       "        text-align: right;\n",
       "    }\n",
       "</style>\n",
       "<table border=\"1\" class=\"dataframe\">\n",
       "  <thead>\n",
       "    <tr style=\"text-align: right;\">\n",
       "      <th></th>\n",
       "      <th>country</th>\n",
       "      <th>customerId</th>\n",
       "    </tr>\n",
       "  </thead>\n",
       "  <tbody>\n",
       "    <tr>\n",
       "      <th>37</th>\n",
       "      <td>United Kingdom</td>\n",
       "      <td>379423</td>\n",
       "    </tr>\n",
       "    <tr>\n",
       "      <th>10</th>\n",
       "      <td>EIRE</td>\n",
       "      <td>8710</td>\n",
       "    </tr>\n",
       "    <tr>\n",
       "      <th>13</th>\n",
       "      <td>Germany</td>\n",
       "      <td>8129</td>\n",
       "    </tr>\n",
       "    <tr>\n",
       "      <th>12</th>\n",
       "      <td>France</td>\n",
       "      <td>5710</td>\n",
       "    </tr>\n",
       "    <tr>\n",
       "      <th>24</th>\n",
       "      <td>Netherlands</td>\n",
       "      <td>2769</td>\n",
       "    </tr>\n",
       "  </tbody>\n",
       "</table>\n",
       "</div>"
      ],
      "text/plain": [
       "           country  customerId\n",
       "37  United Kingdom      379423\n",
       "10            EIRE        8710\n",
       "13         Germany        8129\n",
       "12          France        5710\n",
       "24     Netherlands        2769"
      ]
     },
     "execution_count": 13,
     "metadata": {},
     "output_type": "execute_result"
    }
   ],
   "source": [
    "customer_country=df[['country','customerId']]\n",
    "customer_country.groupby(['country'])['customerId'].aggregate('count').reset_index().sort_values('customerId', ascending=False).head()"
   ]
  },
  {
   "cell_type": "code",
   "execution_count": 14,
   "id": "955b32eb",
   "metadata": {},
   "outputs": [
    {
     "data": {
      "text/html": [
       "<div>\n",
       "<style scoped>\n",
       "    .dataframe tbody tr th:only-of-type {\n",
       "        vertical-align: middle;\n",
       "    }\n",
       "\n",
       "    .dataframe tbody tr th {\n",
       "        vertical-align: top;\n",
       "    }\n",
       "\n",
       "    .dataframe thead th {\n",
       "        text-align: right;\n",
       "    }\n",
       "</style>\n",
       "<table border=\"1\" class=\"dataframe\">\n",
       "  <thead>\n",
       "    <tr style=\"text-align: right;\">\n",
       "      <th></th>\n",
       "      <th>0</th>\n",
       "    </tr>\n",
       "  </thead>\n",
       "  <tbody>\n",
       "    <tr>\n",
       "      <th>invoice</th>\n",
       "      <td>28816</td>\n",
       "    </tr>\n",
       "    <tr>\n",
       "      <th>stockcode</th>\n",
       "      <td>4632</td>\n",
       "    </tr>\n",
       "    <tr>\n",
       "      <th>description</th>\n",
       "      <td>4681</td>\n",
       "    </tr>\n",
       "    <tr>\n",
       "      <th>quantity</th>\n",
       "      <td>825</td>\n",
       "    </tr>\n",
       "    <tr>\n",
       "      <th>price</th>\n",
       "      <td>1606</td>\n",
       "    </tr>\n",
       "    <tr>\n",
       "      <th>customerId</th>\n",
       "      <td>4383</td>\n",
       "    </tr>\n",
       "    <tr>\n",
       "      <th>country</th>\n",
       "      <td>40</td>\n",
       "    </tr>\n",
       "  </tbody>\n",
       "</table>\n",
       "</div>"
      ],
      "text/plain": [
       "                 0\n",
       "invoice      28816\n",
       "stockcode     4632\n",
       "description   4681\n",
       "quantity       825\n",
       "price         1606\n",
       "customerId    4383\n",
       "country         40"
      ]
     },
     "execution_count": 14,
     "metadata": {},
     "output_type": "execute_result"
    }
   ],
   "source": [
    "pd.DataFrame(df.nunique())"
   ]
  },
  {
   "cell_type": "code",
   "execution_count": 15,
   "id": "b78e0545",
   "metadata": {},
   "outputs": [
    {
     "name": "stdout",
     "output_type": "stream",
     "text": [
      "invoice has duplicates: True\n",
      "stockcode has duplicates: True\n",
      "description has duplicates: True\n",
      "quantity has duplicates: True\n",
      "price has duplicates: True\n",
      "customerId has duplicates: True\n",
      "country has duplicates: True\n"
     ]
    }
   ],
   "source": [
    "for column in df.columns:\n",
    "    # Checking if any value in the column is duplicated\n",
    "    has_duplicates = df[column].duplicated().any()\n",
    "    print(f'{column} has duplicates: {has_duplicates}')"
   ]
  },
  {
   "cell_type": "markdown",
   "id": "04b7d73e",
   "metadata": {},
   "source": [
    "## Null values"
   ]
  },
  {
   "cell_type": "code",
   "execution_count": 16,
   "id": "4df42018",
   "metadata": {},
   "outputs": [
    {
     "data": {
      "text/plain": [
       "invoice             0\n",
       "stockcode           0\n",
       "description      2928\n",
       "quantity            0\n",
       "price               0\n",
       "customerId     107927\n",
       "country             0\n",
       "dtype: int64"
      ]
     },
     "execution_count": 16,
     "metadata": {},
     "output_type": "execute_result"
    }
   ],
   "source": [
    "df.isnull().sum(axis=0)"
   ]
  },
  {
   "cell_type": "code",
   "execution_count": 17,
   "id": "1e62b8de",
   "metadata": {},
   "outputs": [
    {
     "data": {
      "text/plain": [
       "InvoiceDate\n",
       "2010-12-09 20:01:00            HOT WATER BOTTLE BABUSHKA \n",
       "2010-12-09 20:01:00       HAND OVER THE CHOCOLATE   SIGN \n",
       "2010-12-09 20:01:00               DINOSAURS  WRITING SET \n",
       "2010-12-09 20:01:00                   SKULLS WRITING SET \n",
       "2010-12-09 20:01:00       RECIPE BOX PANTRY YELLOW DESIGN\n",
       "2010-12-09 20:01:00           ANGEL DECORATION 3 BUTTONS \n",
       "2010-12-09 20:01:00                      KINGS CHOICE MUG\n",
       "2010-12-09 20:01:00                   SAVE THE PLANET MUG\n",
       "2010-12-09 20:01:00                   HOME SWEET HOME MUG\n",
       "2010-12-09 20:01:00            POPPY'S PLAYHOUSE BATHROOM\n",
       "2010-12-09 20:01:00             POPPY'S PLAYHOUSE KITCHEN\n",
       "2010-12-09 20:01:00            POPPY'S PLAYHOUSE BEDROOM \n",
       "2010-12-09 20:01:00       CLOTHES PEGS RETROSPOT PACK 24 \n",
       "2010-12-09 20:01:00          RED SPOT CERAMIC DRAWER KNOB\n",
       "2010-12-09 20:01:00      PINK BLUE FELT CRAFT TRINKET BOX\n",
       "2010-12-09 20:01:00                  FELTCRAFT DOLL ROSIE\n",
       "2010-12-09 20:01:00          FELTCRAFT PRINCESS LOLA DOLL\n",
       "2010-12-09 20:01:00        FELTCRAFT PRINCESS OLIVIA DOLL\n",
       "2010-12-09 20:01:00    PINK FLORAL FELTCRAFT SHOULDER BAG\n",
       "2010-12-09 20:01:00                JUMBO STORAGE BAG SUKI\n",
       "Name: description, dtype: object"
      ]
     },
     "execution_count": 17,
     "metadata": {},
     "output_type": "execute_result"
    }
   ],
   "source": [
    "df['description'].tail(20)"
   ]
  },
  {
   "cell_type": "code",
   "execution_count": 18,
   "id": "169a2bf5",
   "metadata": {},
   "outputs": [
    {
     "data": {
      "text/html": [
       "<div>\n",
       "<style scoped>\n",
       "    .dataframe tbody tr th:only-of-type {\n",
       "        vertical-align: middle;\n",
       "    }\n",
       "\n",
       "    .dataframe tbody tr th {\n",
       "        vertical-align: top;\n",
       "    }\n",
       "\n",
       "    .dataframe thead th {\n",
       "        text-align: right;\n",
       "    }\n",
       "</style>\n",
       "<table border=\"1\" class=\"dataframe\">\n",
       "  <thead>\n",
       "    <tr style=\"text-align: right;\">\n",
       "      <th></th>\n",
       "      <th>invoice</th>\n",
       "      <th>stockcode</th>\n",
       "      <th>description</th>\n",
       "      <th>quantity</th>\n",
       "      <th>price</th>\n",
       "      <th>customerId</th>\n",
       "      <th>country</th>\n",
       "    </tr>\n",
       "    <tr>\n",
       "      <th>InvoiceDate</th>\n",
       "      <th></th>\n",
       "      <th></th>\n",
       "      <th></th>\n",
       "      <th></th>\n",
       "      <th></th>\n",
       "      <th></th>\n",
       "      <th></th>\n",
       "    </tr>\n",
       "  </thead>\n",
       "  <tbody>\n",
       "    <tr>\n",
       "      <th>2010-12-09 15:58:00</th>\n",
       "      <td>538141</td>\n",
       "      <td>22218</td>\n",
       "      <td>NaN</td>\n",
       "      <td>2</td>\n",
       "      <td>0.0</td>\n",
       "      <td>NaN</td>\n",
       "      <td>United Kingdom</td>\n",
       "    </tr>\n",
       "    <tr>\n",
       "      <th>2010-12-09 15:58:00</th>\n",
       "      <td>538143</td>\n",
       "      <td>84534B</td>\n",
       "      <td>NaN</td>\n",
       "      <td>1</td>\n",
       "      <td>0.0</td>\n",
       "      <td>NaN</td>\n",
       "      <td>United Kingdom</td>\n",
       "    </tr>\n",
       "    <tr>\n",
       "      <th>2010-12-09 17:17:00</th>\n",
       "      <td>538159</td>\n",
       "      <td>21324</td>\n",
       "      <td>NaN</td>\n",
       "      <td>-18</td>\n",
       "      <td>0.0</td>\n",
       "      <td>NaN</td>\n",
       "      <td>United Kingdom</td>\n",
       "    </tr>\n",
       "    <tr>\n",
       "      <th>2010-12-09 17:17:00</th>\n",
       "      <td>538158</td>\n",
       "      <td>20892</td>\n",
       "      <td>NaN</td>\n",
       "      <td>-32</td>\n",
       "      <td>0.0</td>\n",
       "      <td>NaN</td>\n",
       "      <td>United Kingdom</td>\n",
       "    </tr>\n",
       "    <tr>\n",
       "      <th>2010-12-09 17:18:00</th>\n",
       "      <td>538160</td>\n",
       "      <td>20956</td>\n",
       "      <td>NaN</td>\n",
       "      <td>288</td>\n",
       "      <td>0.0</td>\n",
       "      <td>NaN</td>\n",
       "      <td>United Kingdom</td>\n",
       "    </tr>\n",
       "  </tbody>\n",
       "</table>\n",
       "</div>"
      ],
      "text/plain": [
       "                    invoice stockcode description  quantity  price  \\\n",
       "InvoiceDate                                                          \n",
       "2010-12-09 15:58:00  538141     22218         NaN         2    0.0   \n",
       "2010-12-09 15:58:00  538143    84534B         NaN         1    0.0   \n",
       "2010-12-09 17:17:00  538159     21324         NaN       -18    0.0   \n",
       "2010-12-09 17:17:00  538158     20892         NaN       -32    0.0   \n",
       "2010-12-09 17:18:00  538160     20956         NaN       288    0.0   \n",
       "\n",
       "                     customerId         country  \n",
       "InvoiceDate                                      \n",
       "2010-12-09 15:58:00         NaN  United Kingdom  \n",
       "2010-12-09 15:58:00         NaN  United Kingdom  \n",
       "2010-12-09 17:17:00         NaN  United Kingdom  \n",
       "2010-12-09 17:17:00         NaN  United Kingdom  \n",
       "2010-12-09 17:18:00         NaN  United Kingdom  "
      ]
     },
     "execution_count": 18,
     "metadata": {},
     "output_type": "execute_result"
    }
   ],
   "source": [
    "df[df['description'].isnull()].tail()"
   ]
  },
  {
   "cell_type": "markdown",
   "id": "253c90a0",
   "metadata": {},
   "source": [
    "Note\n",
    "\n",
    "- The Price in these rows is 0, indicating that these orders did not generate any sales.\n",
    "\n",
    "- At present, we can impute it with 'UNKNOWN ITEM' and address those later during the analysis."
   ]
  },
  {
   "cell_type": "markdown",
   "id": "00809e78",
   "metadata": {},
   "source": [
    "#### Analyzing \"Description\" feature"
   ]
  },
  {
   "cell_type": "code",
   "execution_count": 19,
   "id": "1ef5210b",
   "metadata": {},
   "outputs": [
    {
     "data": {
      "text/plain": [
       "wet ctn                                1\n",
       "RUSSIAN FOLKART STACKING TINS          1\n",
       "correct previous adjustment            1\n",
       "SET OF 2 CHESTS CHOCOLAT AU LAIT       1\n",
       "HEART MEASURING SPOONS SMALL           1\n",
       "LARGE WHITE CHOCOLATE CANDLE           1\n",
       "missings                               1\n",
       "missing (wrongly coded?)               1\n",
       "BAG FOR CHILDREN VINTAGE BLUE          1\n",
       "Sold as 17003?                         1\n",
       "BAG FOR CHILDREN VINTAGE PINK          1\n",
       "BLUE OWL DECORATION                    1\n",
       "PINK OWL DECORATION                    1\n",
       "IVORY WALL CLOCK                       1\n",
       "RED WALL CLOCK                         1\n",
       "stock credited from royal yacht inc    1\n",
       "VINTAGE METAL CAKE STAND CREAM         1\n",
       "BLUE BAROQUE FLOCK CANDLE HOLDER       1\n",
       "S/4 HEART CRYSTAL FRIDGE MAGNETS       1\n",
       "dotcom email                           1\n",
       "Name: description, dtype: int64"
      ]
     },
     "execution_count": 19,
     "metadata": {},
     "output_type": "execute_result"
    }
   ],
   "source": [
    "df['description'].value_counts().tail(20)"
   ]
  },
  {
   "cell_type": "code",
   "execution_count": 20,
   "id": "17e8df43",
   "metadata": {},
   "outputs": [
    {
     "data": {
      "text/plain": [
       "WHITE HANGING HEART T-LIGHT HOLDER    3549\n",
       "REGENCY CAKESTAND 3 TIER              2212\n",
       "STRAWBERRY CERAMIC TRINKET BOX        1843\n",
       "PACK OF 72 RETRO SPOT CAKE CASES      1466\n",
       "ASSORTED COLOUR BIRD ORNAMENT         1457\n",
       "Name: description, dtype: int64"
      ]
     },
     "execution_count": 20,
     "metadata": {},
     "output_type": "execute_result"
    }
   ],
   "source": [
    "df['description'].value_counts().head()"
   ]
  },
  {
   "cell_type": "markdown",
   "id": "a3bd7c95",
   "metadata": {},
   "source": [
    "Note\n",
    "\n",
    "The code above shows that valid items are typically in uppercase, while non-valid or cancelled items are in lowercase."
   ]
  },
  {
   "cell_type": "markdown",
   "id": "f4715936",
   "metadata": {},
   "source": [
    "#### Analyzing Invoice feature"
   ]
  },
  {
   "cell_type": "code",
   "execution_count": 21,
   "id": "5ba1e0f2",
   "metadata": {},
   "outputs": [
    {
     "data": {
      "text/plain": [
       "C506476    1\n",
       "C491621    1\n",
       "C523991    1\n",
       "C491623    1\n",
       "C506489    1\n",
       "C506488    1\n",
       "C506485    1\n",
       "C506484    1\n",
       "C506483    1\n",
       "C506482    1\n",
       "C506481    1\n",
       "C506480    1\n",
       "C523975    1\n",
       "523979     1\n",
       "C523978    1\n",
       "523981     1\n",
       "523984     1\n",
       "523985     1\n",
       "C523988    1\n",
       "C516462    1\n",
       "Name: invoice, dtype: int64"
      ]
     },
     "execution_count": 21,
     "metadata": {},
     "output_type": "execute_result"
    }
   ],
   "source": [
    "df['invoice'].value_counts().tail(20)"
   ]
  },
  {
   "cell_type": "code",
   "execution_count": 22,
   "id": "e434bcb0",
   "metadata": {},
   "outputs": [
    {
     "data": {
      "text/plain": [
       "537434    675\n",
       "538071    652\n",
       "537638    601\n",
       "537237    597\n",
       "536876    593\n",
       "Name: invoice, dtype: int64"
      ]
     },
     "execution_count": 22,
     "metadata": {},
     "output_type": "execute_result"
    }
   ],
   "source": [
    "df['invoice'].value_counts().head()"
   ]
  },
  {
   "cell_type": "markdown",
   "id": "08316253",
   "metadata": {},
   "source": [
    "## Data cleaning"
   ]
  },
  {
   "cell_type": "markdown",
   "id": "08475f3a",
   "metadata": {},
   "source": [
    "Removing duplicates"
   ]
  },
  {
   "cell_type": "code",
   "execution_count": 23,
   "id": "f48619cc",
   "metadata": {},
   "outputs": [
    {
     "data": {
      "text/html": [
       "<div>\n",
       "<style scoped>\n",
       "    .dataframe tbody tr th:only-of-type {\n",
       "        vertical-align: middle;\n",
       "    }\n",
       "\n",
       "    .dataframe tbody tr th {\n",
       "        vertical-align: top;\n",
       "    }\n",
       "\n",
       "    .dataframe thead th {\n",
       "        text-align: right;\n",
       "    }\n",
       "</style>\n",
       "<table border=\"1\" class=\"dataframe\">\n",
       "  <thead>\n",
       "    <tr style=\"text-align: right;\">\n",
       "      <th></th>\n",
       "      <th>country</th>\n",
       "      <th>customerId</th>\n",
       "    </tr>\n",
       "  </thead>\n",
       "  <tbody>\n",
       "    <tr>\n",
       "      <th>37</th>\n",
       "      <td>United Kingdom</td>\n",
       "      <td>21481</td>\n",
       "    </tr>\n",
       "    <tr>\n",
       "      <th>13</th>\n",
       "      <td>Germany</td>\n",
       "      <td>513</td>\n",
       "    </tr>\n",
       "    <tr>\n",
       "      <th>10</th>\n",
       "      <td>EIRE</td>\n",
       "      <td>418</td>\n",
       "    </tr>\n",
       "    <tr>\n",
       "      <th>12</th>\n",
       "      <td>France</td>\n",
       "      <td>292</td>\n",
       "    </tr>\n",
       "    <tr>\n",
       "      <th>24</th>\n",
       "      <td>Netherlands</td>\n",
       "      <td>150</td>\n",
       "    </tr>\n",
       "  </tbody>\n",
       "</table>\n",
       "</div>"
      ],
      "text/plain": [
       "           country  customerId\n",
       "37  United Kingdom       21481\n",
       "13         Germany         513\n",
       "10            EIRE         418\n",
       "12          France         292\n",
       "24     Netherlands         150"
      ]
     },
     "execution_count": 23,
     "metadata": {},
     "output_type": "execute_result"
    }
   ],
   "source": [
    "customer_country=df[['country','customerId','invoice']].drop_duplicates()\n",
    "customer_country.groupby(['country'])['customerId'].aggregate('count').reset_index().sort_values('customerId', ascending=False).head()"
   ]
  },
  {
   "cell_type": "markdown",
   "id": "ed2d4f2c",
   "metadata": {},
   "source": [
    "Note\n",
    "\n",
    "We will no longer track clients that appear to be duplicated, particularly when invoices for these customers are repeated in the same country."
   ]
  },
  {
   "cell_type": "markdown",
   "id": "2018a7d3",
   "metadata": {},
   "source": [
    "Labelling unknown items"
   ]
  },
  {
   "cell_type": "code",
   "execution_count": 24,
   "id": "b7fd2bb5",
   "metadata": {},
   "outputs": [
    {
     "data": {
      "text/plain": [
       "invoice             0\n",
       "stockcode           0\n",
       "description         0\n",
       "quantity            0\n",
       "price               0\n",
       "customerId     107927\n",
       "country             0\n",
       "dtype: int64"
      ]
     },
     "execution_count": 24,
     "metadata": {},
     "output_type": "execute_result"
    }
   ],
   "source": [
    "df['description'] = df['description'].fillna('UNKNOWN ITEM')\n",
    "df.isnull().sum()"
   ]
  },
  {
   "cell_type": "code",
   "execution_count": 25,
   "id": "9fbaa790",
   "metadata": {},
   "outputs": [
    {
     "data": {
      "text/plain": [
       "invoice             0\n",
       "stockcode           0\n",
       "description         0\n",
       "quantity            0\n",
       "price               0\n",
       "customerId     107927\n",
       "country             0\n",
       "dtype: int64"
      ]
     },
     "execution_count": 25,
     "metadata": {},
     "output_type": "execute_result"
    }
   ],
   "source": [
    "df['description'] = df['description'].fillna('UNKNOWN ITEM')\n",
    "df.isnull().sum()"
   ]
  },
  {
   "cell_type": "markdown",
   "id": "7e91e46f",
   "metadata": {},
   "source": [
    "Removing unidentified customers."
   ]
  },
  {
   "cell_type": "code",
   "execution_count": 26,
   "id": "3eab261b",
   "metadata": {},
   "outputs": [
    {
     "data": {
      "text/plain": [
       "invoice        0\n",
       "stockcode      0\n",
       "description    0\n",
       "quantity       0\n",
       "price          0\n",
       "customerId     0\n",
       "country        0\n",
       "dtype: int64"
      ]
     },
     "execution_count": 26,
     "metadata": {},
     "output_type": "execute_result"
    }
   ],
   "source": [
    "df = df[pd.notnull(df['customerId'])]\n",
    "df.isnull().sum(axis=0)"
   ]
  },
  {
   "cell_type": "markdown",
   "id": "293cdeab",
   "metadata": {},
   "source": [
    "Outliers"
   ]
  },
  {
   "cell_type": "markdown",
   "id": "976e6661",
   "metadata": {},
   "source": [
    "## Exploratory Data Analysis II"
   ]
  },
  {
   "cell_type": "markdown",
   "id": "cf54644a",
   "metadata": {},
   "source": [
    "### Do we have returns?"
   ]
  },
  {
   "cell_type": "code",
   "execution_count": 27,
   "id": "1a9da31e",
   "metadata": {},
   "outputs": [
    {
     "data": {
      "text/html": [
       "<div>\n",
       "<style scoped>\n",
       "    .dataframe tbody tr th:only-of-type {\n",
       "        vertical-align: middle;\n",
       "    }\n",
       "\n",
       "    .dataframe tbody tr th {\n",
       "        vertical-align: top;\n",
       "    }\n",
       "\n",
       "    .dataframe thead th {\n",
       "        text-align: right;\n",
       "    }\n",
       "</style>\n",
       "<table border=\"1\" class=\"dataframe\">\n",
       "  <thead>\n",
       "    <tr style=\"text-align: right;\">\n",
       "      <th></th>\n",
       "      <th>invoice</th>\n",
       "      <th>stockcode</th>\n",
       "      <th>description</th>\n",
       "      <th>quantity</th>\n",
       "      <th>price</th>\n",
       "      <th>customerId</th>\n",
       "      <th>country</th>\n",
       "    </tr>\n",
       "    <tr>\n",
       "      <th>InvoiceDate</th>\n",
       "      <th></th>\n",
       "      <th></th>\n",
       "      <th></th>\n",
       "      <th></th>\n",
       "      <th></th>\n",
       "      <th></th>\n",
       "      <th></th>\n",
       "    </tr>\n",
       "  </thead>\n",
       "  <tbody>\n",
       "    <tr>\n",
       "      <th>2009-12-01 10:33:00</th>\n",
       "      <td>C489449</td>\n",
       "      <td>22087</td>\n",
       "      <td>PAPER BUNTING WHITE LACE</td>\n",
       "      <td>-12</td>\n",
       "      <td>2.95</td>\n",
       "      <td>16321.0</td>\n",
       "      <td>Australia</td>\n",
       "    </tr>\n",
       "    <tr>\n",
       "      <th>2009-12-01 10:33:00</th>\n",
       "      <td>C489449</td>\n",
       "      <td>85206A</td>\n",
       "      <td>CREAM FELT EASTER EGG BASKET</td>\n",
       "      <td>-6</td>\n",
       "      <td>1.65</td>\n",
       "      <td>16321.0</td>\n",
       "      <td>Australia</td>\n",
       "    </tr>\n",
       "    <tr>\n",
       "      <th>2009-12-01 10:33:00</th>\n",
       "      <td>C489449</td>\n",
       "      <td>21895</td>\n",
       "      <td>POTTING SHED SOW 'N' GROW SET</td>\n",
       "      <td>-4</td>\n",
       "      <td>4.25</td>\n",
       "      <td>16321.0</td>\n",
       "      <td>Australia</td>\n",
       "    </tr>\n",
       "    <tr>\n",
       "      <th>2009-12-01 10:33:00</th>\n",
       "      <td>C489449</td>\n",
       "      <td>21896</td>\n",
       "      <td>POTTING SHED TWINE</td>\n",
       "      <td>-6</td>\n",
       "      <td>2.10</td>\n",
       "      <td>16321.0</td>\n",
       "      <td>Australia</td>\n",
       "    </tr>\n",
       "    <tr>\n",
       "      <th>2009-12-01 10:33:00</th>\n",
       "      <td>C489449</td>\n",
       "      <td>22083</td>\n",
       "      <td>PAPER CHAIN KIT RETRO SPOT</td>\n",
       "      <td>-12</td>\n",
       "      <td>2.95</td>\n",
       "      <td>16321.0</td>\n",
       "      <td>Australia</td>\n",
       "    </tr>\n",
       "    <tr>\n",
       "      <th>2009-12-01 10:33:00</th>\n",
       "      <td>C489449</td>\n",
       "      <td>21871</td>\n",
       "      <td>SAVE THE PLANET MUG</td>\n",
       "      <td>-12</td>\n",
       "      <td>1.25</td>\n",
       "      <td>16321.0</td>\n",
       "      <td>Australia</td>\n",
       "    </tr>\n",
       "    <tr>\n",
       "      <th>2009-12-01 10:33:00</th>\n",
       "      <td>C489449</td>\n",
       "      <td>84946</td>\n",
       "      <td>ANTIQUE SILVER TEA GLASS ETCHED</td>\n",
       "      <td>-12</td>\n",
       "      <td>1.25</td>\n",
       "      <td>16321.0</td>\n",
       "      <td>Australia</td>\n",
       "    </tr>\n",
       "    <tr>\n",
       "      <th>2009-12-01 10:33:00</th>\n",
       "      <td>C489449</td>\n",
       "      <td>84970S</td>\n",
       "      <td>HANGING HEART ZINC T-LIGHT HOLDER</td>\n",
       "      <td>-24</td>\n",
       "      <td>0.85</td>\n",
       "      <td>16321.0</td>\n",
       "      <td>Australia</td>\n",
       "    </tr>\n",
       "    <tr>\n",
       "      <th>2009-12-01 10:33:00</th>\n",
       "      <td>C489449</td>\n",
       "      <td>22090</td>\n",
       "      <td>PAPER BUNTING RETRO SPOTS</td>\n",
       "      <td>-12</td>\n",
       "      <td>2.95</td>\n",
       "      <td>16321.0</td>\n",
       "      <td>Australia</td>\n",
       "    </tr>\n",
       "    <tr>\n",
       "      <th>2009-12-01 10:44:00</th>\n",
       "      <td>C489459</td>\n",
       "      <td>90200A</td>\n",
       "      <td>PURPLE SWEETHEART BRACELET</td>\n",
       "      <td>-3</td>\n",
       "      <td>4.25</td>\n",
       "      <td>17592.0</td>\n",
       "      <td>United Kingdom</td>\n",
       "    </tr>\n",
       "    <tr>\n",
       "      <th>2009-12-01 10:44:00</th>\n",
       "      <td>C489459</td>\n",
       "      <td>90200D</td>\n",
       "      <td>PINK SWEETHEART BRACELET</td>\n",
       "      <td>-3</td>\n",
       "      <td>4.25</td>\n",
       "      <td>17592.0</td>\n",
       "      <td>United Kingdom</td>\n",
       "    </tr>\n",
       "    <tr>\n",
       "      <th>2009-12-01 10:44:00</th>\n",
       "      <td>C489459</td>\n",
       "      <td>90200B</td>\n",
       "      <td>BLACK SWEETHEART BRACELET</td>\n",
       "      <td>-3</td>\n",
       "      <td>4.25</td>\n",
       "      <td>17592.0</td>\n",
       "      <td>United Kingdom</td>\n",
       "    </tr>\n",
       "    <tr>\n",
       "      <th>2009-12-01 10:44:00</th>\n",
       "      <td>C489459</td>\n",
       "      <td>90200E</td>\n",
       "      <td>GREEN SWEETHEART BRACELET</td>\n",
       "      <td>-3</td>\n",
       "      <td>4.25</td>\n",
       "      <td>17592.0</td>\n",
       "      <td>United Kingdom</td>\n",
       "    </tr>\n",
       "    <tr>\n",
       "      <th>2009-12-01 10:44:00</th>\n",
       "      <td>C489459</td>\n",
       "      <td>90200C</td>\n",
       "      <td>BLUE SWEETHEART BRACELET</td>\n",
       "      <td>-3</td>\n",
       "      <td>4.25</td>\n",
       "      <td>17592.0</td>\n",
       "      <td>United Kingdom</td>\n",
       "    </tr>\n",
       "    <tr>\n",
       "      <th>2009-12-01 10:44:00</th>\n",
       "      <td>C489459</td>\n",
       "      <td>90185C</td>\n",
       "      <td>BLACK DIAMANTE EXPANDABLE RING</td>\n",
       "      <td>-3</td>\n",
       "      <td>4.25</td>\n",
       "      <td>17592.0</td>\n",
       "      <td>United Kingdom</td>\n",
       "    </tr>\n",
       "    <tr>\n",
       "      <th>2009-12-01 10:44:00</th>\n",
       "      <td>C489459</td>\n",
       "      <td>90185B</td>\n",
       "      <td>AMETHYST DIAMANTE EXPANDABLE RING</td>\n",
       "      <td>-3</td>\n",
       "      <td>4.25</td>\n",
       "      <td>17592.0</td>\n",
       "      <td>United Kingdom</td>\n",
       "    </tr>\n",
       "    <tr>\n",
       "      <th>2009-12-01 10:44:00</th>\n",
       "      <td>C489459</td>\n",
       "      <td>90003C</td>\n",
       "      <td>MIDNIGHT BLUE PAIR HEART HAIR SLIDE</td>\n",
       "      <td>-3</td>\n",
       "      <td>3.75</td>\n",
       "      <td>17592.0</td>\n",
       "      <td>United Kingdom</td>\n",
       "    </tr>\n",
       "    <tr>\n",
       "      <th>2009-12-01 10:44:00</th>\n",
       "      <td>C489459</td>\n",
       "      <td>90003D</td>\n",
       "      <td>CRYSTAL PAIR HEART HAIR SLIDES</td>\n",
       "      <td>-3</td>\n",
       "      <td>3.75</td>\n",
       "      <td>17592.0</td>\n",
       "      <td>United Kingdom</td>\n",
       "    </tr>\n",
       "    <tr>\n",
       "      <th>2009-12-01 10:44:00</th>\n",
       "      <td>C489459</td>\n",
       "      <td>90003B</td>\n",
       "      <td>ROSE COLOUR PAIR HEART HAIR SLIDES</td>\n",
       "      <td>-3</td>\n",
       "      <td>3.75</td>\n",
       "      <td>17592.0</td>\n",
       "      <td>United Kingdom</td>\n",
       "    </tr>\n",
       "    <tr>\n",
       "      <th>2009-12-01 10:44:00</th>\n",
       "      <td>C489459</td>\n",
       "      <td>90209C</td>\n",
       "      <td>PINK ENAMEL+GLASS HAIR COMB</td>\n",
       "      <td>-3</td>\n",
       "      <td>2.10</td>\n",
       "      <td>17592.0</td>\n",
       "      <td>United Kingdom</td>\n",
       "    </tr>\n",
       "  </tbody>\n",
       "</table>\n",
       "</div>"
      ],
      "text/plain": [
       "                     invoice stockcode                          description  \\\n",
       "InvoiceDate                                                                   \n",
       "2009-12-01 10:33:00  C489449     22087             PAPER BUNTING WHITE LACE   \n",
       "2009-12-01 10:33:00  C489449    85206A         CREAM FELT EASTER EGG BASKET   \n",
       "2009-12-01 10:33:00  C489449     21895        POTTING SHED SOW 'N' GROW SET   \n",
       "2009-12-01 10:33:00  C489449     21896                   POTTING SHED TWINE   \n",
       "2009-12-01 10:33:00  C489449     22083           PAPER CHAIN KIT RETRO SPOT   \n",
       "2009-12-01 10:33:00  C489449     21871                  SAVE THE PLANET MUG   \n",
       "2009-12-01 10:33:00  C489449     84946      ANTIQUE SILVER TEA GLASS ETCHED   \n",
       "2009-12-01 10:33:00  C489449    84970S    HANGING HEART ZINC T-LIGHT HOLDER   \n",
       "2009-12-01 10:33:00  C489449     22090            PAPER BUNTING RETRO SPOTS   \n",
       "2009-12-01 10:44:00  C489459    90200A           PURPLE SWEETHEART BRACELET   \n",
       "2009-12-01 10:44:00  C489459    90200D             PINK SWEETHEART BRACELET   \n",
       "2009-12-01 10:44:00  C489459    90200B            BLACK SWEETHEART BRACELET   \n",
       "2009-12-01 10:44:00  C489459    90200E            GREEN SWEETHEART BRACELET   \n",
       "2009-12-01 10:44:00  C489459    90200C             BLUE SWEETHEART BRACELET   \n",
       "2009-12-01 10:44:00  C489459    90185C       BLACK DIAMANTE EXPANDABLE RING   \n",
       "2009-12-01 10:44:00  C489459    90185B    AMETHYST DIAMANTE EXPANDABLE RING   \n",
       "2009-12-01 10:44:00  C489459    90003C  MIDNIGHT BLUE PAIR HEART HAIR SLIDE   \n",
       "2009-12-01 10:44:00  C489459    90003D       CRYSTAL PAIR HEART HAIR SLIDES   \n",
       "2009-12-01 10:44:00  C489459    90003B   ROSE COLOUR PAIR HEART HAIR SLIDES   \n",
       "2009-12-01 10:44:00  C489459    90209C          PINK ENAMEL+GLASS HAIR COMB   \n",
       "\n",
       "                     quantity  price  customerId         country  \n",
       "InvoiceDate                                                       \n",
       "2009-12-01 10:33:00       -12   2.95     16321.0       Australia  \n",
       "2009-12-01 10:33:00        -6   1.65     16321.0       Australia  \n",
       "2009-12-01 10:33:00        -4   4.25     16321.0       Australia  \n",
       "2009-12-01 10:33:00        -6   2.10     16321.0       Australia  \n",
       "2009-12-01 10:33:00       -12   2.95     16321.0       Australia  \n",
       "2009-12-01 10:33:00       -12   1.25     16321.0       Australia  \n",
       "2009-12-01 10:33:00       -12   1.25     16321.0       Australia  \n",
       "2009-12-01 10:33:00       -24   0.85     16321.0       Australia  \n",
       "2009-12-01 10:33:00       -12   2.95     16321.0       Australia  \n",
       "2009-12-01 10:44:00        -3   4.25     17592.0  United Kingdom  \n",
       "2009-12-01 10:44:00        -3   4.25     17592.0  United Kingdom  \n",
       "2009-12-01 10:44:00        -3   4.25     17592.0  United Kingdom  \n",
       "2009-12-01 10:44:00        -3   4.25     17592.0  United Kingdom  \n",
       "2009-12-01 10:44:00        -3   4.25     17592.0  United Kingdom  \n",
       "2009-12-01 10:44:00        -3   4.25     17592.0  United Kingdom  \n",
       "2009-12-01 10:44:00        -3   4.25     17592.0  United Kingdom  \n",
       "2009-12-01 10:44:00        -3   3.75     17592.0  United Kingdom  \n",
       "2009-12-01 10:44:00        -3   3.75     17592.0  United Kingdom  \n",
       "2009-12-01 10:44:00        -3   3.75     17592.0  United Kingdom  \n",
       "2009-12-01 10:44:00        -3   2.10     17592.0  United Kingdom  "
      ]
     },
     "execution_count": 27,
     "metadata": {},
     "output_type": "execute_result"
    }
   ],
   "source": [
    "df[df['quantity'] < 0].head(20)"
   ]
  },
  {
   "cell_type": "code",
   "execution_count": 28,
   "id": "1b3355a0",
   "metadata": {},
   "outputs": [
    {
     "name": "stdout",
     "output_type": "stream",
     "text": [
      "0\n",
      "          quantity         price    customerId\n",
      "count  9839.000000   9839.000000   9839.000000\n",
      "mean    -21.545381     28.474384  15035.010367\n",
      "std     212.077657    405.041589   1690.634907\n",
      "min   -9360.000000      0.010000  12346.000000\n",
      "25%      -6.000000      1.625000  13576.000000\n",
      "50%      -2.000000      2.950000  14911.000000\n",
      "75%      -1.000000      6.750000  16454.000000\n",
      "max      -1.000000  25111.090000  18287.000000\n"
     ]
    }
   ],
   "source": [
    "print(df['invoice'].isna().sum())\n",
    "#The code is not working unless we instruct .str.startswith() to consider NA/NaN values as False\n",
    "print(df[df['invoice'].str.startswith('C', na=False)].describe())"
   ]
  },
  {
   "cell_type": "markdown",
   "id": "8f7cc604",
   "metadata": {},
   "source": [
    "Note\n",
    "\n",
    "Invoices beginning with the letter 'C' are designated as 'Canceling' or 'Returning' invoices.\n",
    "\n",
    "While a more in-depth analysis of these returns would be beneficial, for the sake of simplicity we will disregard them for now."
   ]
  },
  {
   "cell_type": "markdown",
   "id": "fc03df9c",
   "metadata": {},
   "source": [
    "## How many customers are not recurrent?"
   ]
  },
  {
   "cell_type": "code",
   "execution_count": 29,
   "id": "62c1b009",
   "metadata": {},
   "outputs": [
    {
     "name": "stdout",
     "output_type": "stream",
     "text": [
      "invoice :  23587\n",
      "stockcode :  4031\n",
      "description :  4459\n",
      "quantity :  500\n",
      "price :  664\n",
      "customerId :  4383\n",
      "country :  37\n"
     ]
    }
   ],
   "source": [
    "def unique_counts(df):\n",
    "   for i in df.columns:\n",
    "       count = df[i].nunique()\n",
    "       print(i, \": \", count)\n",
    "unique_counts(df)"
   ]
  },
  {
   "cell_type": "markdown",
   "id": "637308f2",
   "metadata": {},
   "source": [
    "## What items were purchased more frequently?"
   ]
  },
  {
   "cell_type": "code",
   "execution_count": 30,
   "id": "bb1ba2a6",
   "metadata": {},
   "outputs": [
    {
     "data": {
      "image/png": "[encoded data removed]",
      "text/plain": [
       "<Figure size 1296x432 with 1 Axes>"
      ]
     },
     "metadata": {
      "needs_background": "light"
     },
     "output_type": "display_data"
    }
   ],
   "source": [
    "item_counts = df['description'].value_counts().sort_values(ascending=False).iloc[0:15]\n",
    "plt.figure(figsize=(18,6))\n",
    "sns.barplot(x=item_counts.index, y=item_counts.values, palette=sns.cubehelix_palette(15))\n",
    "plt.ylabel(\"Counts\")\n",
    "plt.title(\"Which items were bought more often?\");\n",
    "plt.xticks(rotation=90);"
   ]
  },
  {
   "cell_type": "markdown",
   "id": "90eb5abe",
   "metadata": {},
   "source": [
    "##  Which invoices had the highest number of items?"
   ]
  },
  {
   "cell_type": "code",
   "execution_count": 31,
   "id": "437f80b2",
   "metadata": {},
   "outputs": [
    {
     "data": {
      "image/png": "[encoded data removed]",
      "text/plain": [
       "<Figure size 1296x432 with 1 Axes>"
      ]
     },
     "metadata": {
      "needs_background": "light"
     },
     "output_type": "display_data"
    }
   ],
   "source": [
    "inv_counts = df['invoice'].value_counts().sort_values(ascending=False).iloc[0:15]\n",
    "plt.figure(figsize=(18,6))\n",
    "sns.barplot(x=inv_counts.index, y=inv_counts.values, palette=sns.color_palette(\"BuGn_d\"))\n",
    "plt.ylabel(\"Counts\")\n",
    "plt.title(\"Which invoices had the most items?\");\n",
    "plt.xticks(rotation=90);"
   ]
  },
  {
   "cell_type": "markdown",
   "id": "a75b2a16",
   "metadata": {},
   "source": [
    "### What is the country with the highest number of sales?"
   ]
  },
  {
   "cell_type": "code",
   "execution_count": 32,
   "id": "a9f4dacf",
   "metadata": {},
   "outputs": [
    {
     "data": {
      "text/html": [
       "<div>\n",
       "<style scoped>\n",
       "    .dataframe tbody tr th:only-of-type {\n",
       "        vertical-align: middle;\n",
       "    }\n",
       "\n",
       "    .dataframe tbody tr th {\n",
       "        vertical-align: top;\n",
       "    }\n",
       "\n",
       "    .dataframe thead th {\n",
       "        text-align: right;\n",
       "    }\n",
       "</style>\n",
       "<table border=\"1\" class=\"dataframe\">\n",
       "  <thead>\n",
       "    <tr style=\"text-align: right;\">\n",
       "      <th></th>\n",
       "      <th>Australia</th>\n",
       "      <th>Austria</th>\n",
       "      <th>Bahrain</th>\n",
       "      <th>Belgium</th>\n",
       "      <th>Brazil</th>\n",
       "      <th>Canada</th>\n",
       "      <th>Channel Islands</th>\n",
       "      <th>Cyprus</th>\n",
       "      <th>Denmark</th>\n",
       "      <th>EIRE</th>\n",
       "      <th>...</th>\n",
       "      <th>Singapore</th>\n",
       "      <th>Spain</th>\n",
       "      <th>Sweden</th>\n",
       "      <th>Switzerland</th>\n",
       "      <th>Thailand</th>\n",
       "      <th>USA</th>\n",
       "      <th>United Arab Emirates</th>\n",
       "      <th>United Kingdom</th>\n",
       "      <th>Unspecified</th>\n",
       "      <th>West Indies</th>\n",
       "    </tr>\n",
       "  </thead>\n",
       "  <tbody>\n",
       "    <tr>\n",
       "      <th>invoice</th>\n",
       "      <td>50</td>\n",
       "      <td>32</td>\n",
       "      <td>2</td>\n",
       "      <td>65</td>\n",
       "      <td>1</td>\n",
       "      <td>2</td>\n",
       "      <td>47</td>\n",
       "      <td>25</td>\n",
       "      <td>33</td>\n",
       "      <td>418</td>\n",
       "      <td>...</td>\n",
       "      <td>4</td>\n",
       "      <td>85</td>\n",
       "      <td>82</td>\n",
       "      <td>50</td>\n",
       "      <td>2</td>\n",
       "      <td>18</td>\n",
       "      <td>11</td>\n",
       "      <td>21481</td>\n",
       "      <td>11</td>\n",
       "      <td>1</td>\n",
       "    </tr>\n",
       "  </tbody>\n",
       "</table>\n",
       "<p>1 rows × 37 columns</p>\n",
       "</div>"
      ],
      "text/plain": [
       "         Australia  Austria  Bahrain  Belgium  Brazil  Canada  \\\n",
       "invoice         50       32        2       65       1       2   \n",
       "\n",
       "         Channel Islands  Cyprus  Denmark  EIRE  ...  Singapore  Spain  \\\n",
       "invoice               47      25       33   418  ...          4     85   \n",
       "\n",
       "         Sweden  Switzerland  Thailand  USA  United Arab Emirates  \\\n",
       "invoice      82           50         2   18                    11   \n",
       "\n",
       "         United Kingdom  Unspecified  West Indies  \n",
       "invoice           21481           11            1  \n",
       "\n",
       "[1 rows x 37 columns]"
      ]
     },
     "execution_count": 32,
     "metadata": {},
     "output_type": "execute_result"
    }
   ],
   "source": [
    "info = pd.DataFrame(data = df.groupby(['country'])['invoice'].nunique(), index=df.groupby(['country']).groups.keys()).T\n",
    "info"
   ]
  },
  {
   "cell_type": "code",
   "execution_count": 33,
   "id": "85d2529d",
   "metadata": {},
   "outputs": [
    {
     "data": {
      "image/png": "[encoded data removed]",
      "text/plain": [
       "<Figure size 1008x432 with 1 Axes>"
      ]
     },
     "metadata": {
      "needs_background": "light"
     },
     "output_type": "display_data"
    }
   ],
   "source": [
    "plt.figure(figsize=(14,6))\n",
    "plt.bar(list(df.groupby(['country']).groups.keys()), df.groupby(['country'])['customerId'].count())\n",
    "plt.xticks(rotation = 90, fontsize = 14)\n",
    "plt.title(\"Number of transanctions done for each country\")\n",
    "plt.ylabel(\"No. of trans.\")\n",
    "plt.xlabel(\"Country\")\n",
    "plt.show()"
   ]
  },
  {
   "cell_type": "code",
   "execution_count": 34,
   "id": "553cadeb",
   "metadata": {},
   "outputs": [
    {
     "name": "stdout",
     "output_type": "stream",
     "text": [
      "country\n",
      "West Indies              0.004240\n",
      "RSA                      0.004240\n",
      "Brazil                   0.004240\n",
      "Thailand                 0.008479\n",
      "Bahrain                  0.008479\n",
      "Canada                   0.008479\n",
      "Nigeria                  0.008479\n",
      "Israel                   0.008479\n",
      "Iceland                  0.008479\n",
      "Korea                    0.012719\n",
      "Singapore                0.016958\n",
      "Malta                    0.025438\n",
      "Lithuania                0.025438\n",
      "United Arab Emirates     0.046636\n",
      "Unspecified              0.046636\n",
      "Norway                   0.063594\n",
      "Greece                   0.063594\n",
      "Poland                   0.063594\n",
      "USA                      0.076313\n",
      "Finland                  0.084792\n",
      "Cyprus                   0.105991\n",
      "Japan                    0.127189\n",
      "Austria                  0.135668\n",
      "Denmark                  0.139908\n",
      "Italy                    0.165345\n",
      "Channel Islands          0.199262\n",
      "Switzerland              0.211981\n",
      "Australia                0.211981\n",
      "Portugal                 0.237419\n",
      "Belgium                  0.275576\n",
      "Sweden                   0.347649\n",
      "Spain                    0.360368\n",
      "Netherlands              0.635944\n",
      "France                   1.237970\n",
      "EIRE                     1.772163\n",
      "Germany                  2.174927\n",
      "United Kingdom          91.071353\n",
      "Name: invoice, dtype: float64\n"
     ]
    }
   ],
   "source": [
    "# Calculating the number of unique invoices per country\n",
    "sales_per_country = df.groupby('country')['invoice'].nunique()\n",
    "\n",
    "# Calculating the total number of sales transactions\n",
    "total_sales = sales_per_country.sum()\n",
    "\n",
    "# Calculating the percentage of total sales for each country\n",
    "percent_sales = (sales_per_country / total_sales) * 100\n",
    "\n",
    "# Sorting the percentages to find the countries with the smallest percent of sales\n",
    "smallest_percent_sales = percent_sales.sort_values()\n",
    "\n",
    "# Displaying the sorted percentages\n",
    "print(smallest_percent_sales)"
   ]
  },
  {
   "cell_type": "code",
   "execution_count": 35,
   "id": "13fb7b68",
   "metadata": {},
   "outputs": [
    {
     "name": "stdout",
     "output_type": "stream",
     "text": [
      "Number of countries with 1% or less in sales: 33\n",
      "Countries with 1% or less in sales:\n",
      "['Australia', 'Austria', 'Bahrain', 'Belgium', 'Brazil', 'Canada', 'Channel Islands', 'Cyprus', 'Denmark', 'Finland', 'Greece', 'Iceland', 'Israel', 'Italy', 'Japan', 'Korea', 'Lithuania', 'Malta', 'Netherlands', 'Nigeria', 'Norway', 'Poland', 'Portugal', 'RSA', 'Singapore', 'Spain', 'Sweden', 'Switzerland', 'Thailand', 'USA', 'United Arab Emirates', 'Unspecified', 'West Indies']\n"
     ]
    }
   ],
   "source": [
    "# Filtering for countries with 1% or less in sales\n",
    "countries_with_one_percent_or_less = percent_sales[percent_sales <= 1]\n",
    "\n",
    "# Counting the number of countries meeting the criterion\n",
    "number_of_countries = countries_with_one_percent_or_less.count()\n",
    "\n",
    "# Display the count\n",
    "print(f'Number of countries with 1% or less in sales: {number_of_countries}')\n",
    "\n",
    "# Displaying the names of these countries\n",
    "print(\"Countries with 1% or less in sales:\")\n",
    "print(countries_with_one_percent_or_less.index.tolist())"
   ]
  },
  {
   "cell_type": "markdown",
   "id": "c1bcb651",
   "metadata": {},
   "source": [
    "Note\n",
    "\n",
    "- The UK conducted the majority of the transactions, with a total of 19857.\n",
    "\n",
    "- 'Australia', 'Austria', 'Bahrain', 'Belgium', 'Brazil', 'Canada', 'Channel Islands', 'Cyprus', 'Denmark', 'Finland', 'Greece', 'Iceland', 'Israel', 'Italy', 'Japan', 'Korea', 'Lithuania', 'Malta', 'Netherlands', 'Nigeria', 'Norway', 'Poland', 'Portugal', 'RSA', 'Singapore', 'Spain', 'Sweden', 'Switzerland', 'Thailand', 'USA', 'United Arab Emirates', 'Unspecified', 'West Indies' are countries with less than the 1% of sales"
   ]
  },
  {
   "cell_type": "markdown",
   "id": "40c0c4c0",
   "metadata": {},
   "source": [
    "Outliers"
   ]
  },
  {
   "cell_type": "code",
   "execution_count": 36,
   "id": "96541a44",
   "metadata": {},
   "outputs": [
    {
     "data": {
      "text/plain": [
       "<matplotlib.collections.PathCollection at 0x2ab367dcf10>"
      ]
     },
     "execution_count": 36,
     "metadata": {},
     "output_type": "execute_result"
    },
    {
     "data": {
      "image/png": "[encoded data removed]",
      "text/plain": [
       "<Figure size 1296x432 with 1 Axes>"
      ]
     },
     "metadata": {
      "needs_background": "light"
     },
     "output_type": "display_data"
    }
   ],
   "source": [
    "plt.figure(figsize=(18,6))\n",
    "plt.scatter(x=df.index, y=df['price'])"
   ]
  },
  {
   "cell_type": "code",
   "execution_count": 37,
   "id": "5c201748",
   "metadata": {},
   "outputs": [
    {
     "name": "stdout",
     "output_type": "stream",
     "text": [
      "quantity        10.0\n",
      "price            2.5\n",
      "customerId    2816.0\n",
      "dtype: float64\n",
      "--------\n",
      "quantity          2.00\n",
      "price             1.25\n",
      "customerId    13983.00\n",
      "Name: 0.25, dtype: float64\n",
      "--------\n",
      "quantity         12.00\n",
      "price             3.75\n",
      "customerId    16799.00\n",
      "Name: 0.75, dtype: float64\n"
     ]
    },
    {
     "name": "stderr",
     "output_type": "stream",
     "text": [
      "C:\\Users\\eduma\\AppData\\Local\\Temp/ipykernel_31352/3388604920.py:10: FutureWarning: Automatic reindexing on DataFrame vs Series comparisons is deprecated and will raise ValueError in a future version.  Do `left, right = left.align(right, axis=1, copy=False)` before e.g. `left == right`\n",
      "  df=df[~((df<(Q1-1.5*IQR))|(df>(Q3+1.5*IQR))).any(axis=1)]\n"
     ]
    }
   ],
   "source": [
    "Q1=df.quantile(.25)\n",
    "Q3=df.quantile(.75)\n",
    "IQR=Q3-Q1\n",
    "print(IQR)\n",
    "print(\"--------\")\n",
    "print(Q1)\n",
    "print(\"--------\")\n",
    "print(Q3)\n",
    "\n",
    "df=df[~((df<(Q1-1.5*IQR))|(df>(Q3+1.5*IQR))).any(axis=1)]"
   ]
  },
  {
   "cell_type": "code",
   "execution_count": 39,
   "id": "3c83b7d1",
   "metadata": {},
   "outputs": [
    {
     "name": "stdout",
     "output_type": "stream",
     "text": [
      "Percentage of customers who have purchased items over 1.25 euros: 98.95%\n"
     ]
    }
   ],
   "source": [
    "Q1_price = Q1['price'] \n",
    "\n",
    "# Filtering the dataset for products over 1.25 euros\n",
    "high_value_purchases = df[df['price'] > Q1_price]\n",
    "\n",
    "# Getting unique customers who have made high-value purchases\n",
    "unique_customers_high_value = high_value_purchases['customerId'].unique()\n",
    "\n",
    "# Getting the total number of unique customers in the entire dataset\n",
    "total_unique_customers = df['customerId'].unique()\n",
    "\n",
    "# Calculating the percentage of customers who have purchased items over 3000 euros\n",
    "percentage_high_value_customers = (len(unique_customers_high_value) / len(total_unique_customers)) * 100\n",
    "\n",
    "# Displaying the percentage\n",
    "print(f'Percentage of customers who have purchased items over 1.25 euros: {percentage_high_value_customers:.2f}%')"
   ]
  },
  {
   "cell_type": "code",
   "execution_count": 41,
   "id": "78dfd5b9",
   "metadata": {},
   "outputs": [
    {
     "name": "stdout",
     "output_type": "stream",
     "text": [
      "Percentage of customers who have purchased items over 2.55 euros: 88.40%\n"
     ]
    }
   ],
   "source": [
    "Q3_price = Q3['price'] \n",
    "\n",
    "# Filtering the dataset for products over 2.55 euros\n",
    "high_value_purchases = df[df['price'] > Q3_price]\n",
    "\n",
    "# Getting unique customers who have made high-value purchases\n",
    "unique_customers_high_value = high_value_purchases['customerId'].unique()\n",
    "\n",
    "# Getting the total number of unique customers in the entire dataset\n",
    "total_unique_customers = df['customerId'].unique()\n",
    "\n",
    "# Calculating the percentage of customers who have purchased items over 3000 euros\n",
    "percentage_high_value_customers = (len(unique_customers_high_value) / len(total_unique_customers)) * 100\n",
    "\n",
    "# Displaying the percentage\n",
    "print(f'Percentage of customers who have purchased items over 2.55 euros: {percentage_high_value_customers:.2f}%')"
   ]
  },
  {
   "cell_type": "code",
   "execution_count": 42,
   "id": "c161b58f",
   "metadata": {},
   "outputs": [
    {
     "data": {
      "text/plain": [
       "<matplotlib.collections.PathCollection at 0x2ab364ed370>"
      ]
     },
     "execution_count": 42,
     "metadata": {},
     "output_type": "execute_result"
    },
    {
     "data": {
      "image/png": "[encoded data removed]",
      "text/plain": [
       "<Figure size 1296x432 with 1 Axes>"
      ]
     },
     "metadata": {
      "needs_background": "light"
     },
     "output_type": "display_data"
    }
   ],
   "source": [
    "plt.figure(figsize=(18,6))\n",
    "plt.scatter(x=df.index, y=df['price'])"
   ]
  },
  {
   "cell_type": "code",
   "execution_count": 43,
   "id": "f0c9b852",
   "metadata": {},
   "outputs": [
    {
     "data": {
      "text/html": [
       "<div>\n",
       "<style scoped>\n",
       "    .dataframe tbody tr th:only-of-type {\n",
       "        vertical-align: middle;\n",
       "    }\n",
       "\n",
       "    .dataframe tbody tr th {\n",
       "        vertical-align: top;\n",
       "    }\n",
       "\n",
       "    .dataframe thead th {\n",
       "        text-align: right;\n",
       "    }\n",
       "</style>\n",
       "<table border=\"1\" class=\"dataframe\">\n",
       "  <thead>\n",
       "    <tr style=\"text-align: right;\">\n",
       "      <th></th>\n",
       "      <th>quantity</th>\n",
       "      <th>price</th>\n",
       "      <th>customerId</th>\n",
       "    </tr>\n",
       "  </thead>\n",
       "  <tbody>\n",
       "    <tr>\n",
       "      <th>count</th>\n",
       "      <td>355383.000000</td>\n",
       "      <td>355383.000000</td>\n",
       "      <td>355383.000000</td>\n",
       "    </tr>\n",
       "    <tr>\n",
       "      <th>mean</th>\n",
       "      <td>6.925452</td>\n",
       "      <td>2.368038</td>\n",
       "      <td>15390.779973</td>\n",
       "    </tr>\n",
       "    <tr>\n",
       "      <th>std</th>\n",
       "      <td>6.727763</td>\n",
       "      <td>1.667788</td>\n",
       "      <td>1678.741817</td>\n",
       "    </tr>\n",
       "    <tr>\n",
       "      <th>min</th>\n",
       "      <td>-13.000000</td>\n",
       "      <td>0.000000</td>\n",
       "      <td>12346.000000</td>\n",
       "    </tr>\n",
       "    <tr>\n",
       "      <th>25%</th>\n",
       "      <td>2.000000</td>\n",
       "      <td>1.250000</td>\n",
       "      <td>14030.000000</td>\n",
       "    </tr>\n",
       "    <tr>\n",
       "      <th>50%</th>\n",
       "      <td>5.000000</td>\n",
       "      <td>1.950000</td>\n",
       "      <td>15379.000000</td>\n",
       "    </tr>\n",
       "    <tr>\n",
       "      <th>75%</th>\n",
       "      <td>12.000000</td>\n",
       "      <td>2.950000</td>\n",
       "      <td>16844.000000</td>\n",
       "    </tr>\n",
       "    <tr>\n",
       "      <th>max</th>\n",
       "      <td>27.000000</td>\n",
       "      <td>7.500000</td>\n",
       "      <td>18287.000000</td>\n",
       "    </tr>\n",
       "  </tbody>\n",
       "</table>\n",
       "</div>"
      ],
      "text/plain": [
       "            quantity          price     customerId\n",
       "count  355383.000000  355383.000000  355383.000000\n",
       "mean        6.925452       2.368038   15390.779973\n",
       "std         6.727763       1.667788    1678.741817\n",
       "min       -13.000000       0.000000   12346.000000\n",
       "25%         2.000000       1.250000   14030.000000\n",
       "50%         5.000000       1.950000   15379.000000\n",
       "75%        12.000000       2.950000   16844.000000\n",
       "max        27.000000       7.500000   18287.000000"
      ]
     },
     "execution_count": 43,
     "metadata": {},
     "output_type": "execute_result"
    }
   ],
   "source": [
    "df.describe()"
   ]
  },
  {
   "cell_type": "markdown",
   "id": "28753441",
   "metadata": {},
   "source": [
    "Note\n",
    "\n",
    "- To ensure a more precise sample of the population, we have excluded customers who are capable of purchasing products over 7.5€ from our datasets. \n",
    "\n",
    "- This is because our analysis aims to cluster common groups of the population, and those who can afford luxury products are not representative of the general population."
   ]
  },
  {
   "cell_type": "code",
   "execution_count": null,
   "id": "f9fed2bf",
   "metadata": {},
   "outputs": [],
   "source": [
    "df[df['price'] < 15]"
   ]
  },
  {
   "cell_type": "code",
   "execution_count": null,
   "id": "3a2bddc7",
   "metadata": {},
   "outputs": [],
   "source": []
  }
 ],
 "metadata": {
  "kernelspec": {
   "display_name": "Python 3 (ipykernel)",
   "language": "python",
   "name": "python3"
  },
  "language_info": {
   "codemirror_mode": {
    "name": "ipython",
    "version": 3
   },
   "file_extension": ".py",
   "mimetype": "text/x-python",
   "name": "python",
   "nbconvert_exporter": "python",
   "pygments_lexer": "ipython3",
   "version": "3.9.7"
  }
 },
 "nbformat": 4,
 "nbformat_minor": 5
}
