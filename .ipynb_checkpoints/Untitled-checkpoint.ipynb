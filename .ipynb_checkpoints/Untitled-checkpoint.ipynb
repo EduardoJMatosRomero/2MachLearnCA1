{
 "cells": [
  {
   "cell_type": "markdown",
   "id": "029e294b",
   "metadata": {},
   "source": [
    "In the retail sector, it is possible to unlock insights to win and retain customers, drive business efficiencies, and ultimately improve sales and customer interest. Retail organizations are using advanced analysis to understand their customers, improve forecasting, and achieve better, faster results. As a company's resources are limited, it is crucial to identify and target customers to secure their loyalty, enhance business efficiency, and ultimately improve performance."
   ]
  },
  {
   "cell_type": "markdown",
   "id": "a909c930",
   "metadata": {},
   "source": [
    "You have been given access to a dataset containing customer transactions for an online retailer and tasked with using your machine learning tools to gain and report on business insights. The audience for this report are non-specialists.  In particular, your tasks are:\n",
    "\n",
    "Clustering\n",
    "Apply and evaluate various clustering techniques with the aim of generating actionable insights from the data. \n",
    "\n",
    "●\tSelect and justify the features you will be using.\n",
    "\n",
    "●\tApply appropriate clustering algorithms to the dataset.\n",
    "\n",
    "●\tEvaluate the performance of the algorithms and make a recommendation as to which gives the “best” results.\n",
    "\n",
    "●\tInclude in your report your own interpretation of the results.\n",
    "\n",
    "Market Basket Analysis\n",
    "Perform a market basket analysis of the transaction data. \n",
    "\n",
    "●\tInclude in your report a comparison and evaluation of at least two algorithms.\n",
    "\n",
    "●\tInclude in your report your own interpretation of the results.\n"
   ]
  },
  {
   "cell_type": "code",
   "execution_count": 1,
   "id": "06c9a74f",
   "metadata": {},
   "outputs": [],
   "source": [
    "import numpy as np \n",
    "import pandas as pd\n",
    "import matplotlib.pyplot as plt \n",
    "import seaborn as sns"
   ]
  },
  {
   "cell_type": "code",
   "execution_count": 2,
   "id": "f0699741",
   "metadata": {},
   "outputs": [
    {
     "data": {
      "text/html": [
       "<div>\n",
       "<style scoped>\n",
       "    .dataframe tbody tr th:only-of-type {\n",
       "        vertical-align: middle;\n",
       "    }\n",
       "\n",
       "    .dataframe tbody tr th {\n",
       "        vertical-align: top;\n",
       "    }\n",
       "\n",
       "    .dataframe thead th {\n",
       "        text-align: right;\n",
       "    }\n",
       "</style>\n",
       "<table border=\"1\" class=\"dataframe\">\n",
       "  <thead>\n",
       "    <tr style=\"text-align: right;\">\n",
       "      <th></th>\n",
       "      <th>Invoice</th>\n",
       "      <th>StockCode</th>\n",
       "      <th>Description</th>\n",
       "      <th>Quantity</th>\n",
       "      <th>InvoiceDate</th>\n",
       "      <th>Price</th>\n",
       "      <th>Customer ID</th>\n",
       "      <th>Country</th>\n",
       "    </tr>\n",
       "  </thead>\n",
       "  <tbody>\n",
       "    <tr>\n",
       "      <th>0</th>\n",
       "      <td>489434</td>\n",
       "      <td>85048</td>\n",
       "      <td>15CM CHRISTMAS GLASS BALL 20 LIGHTS</td>\n",
       "      <td>12</td>\n",
       "      <td>2009-12-01 07:45:00</td>\n",
       "      <td>6.95</td>\n",
       "      <td>13085.0</td>\n",
       "      <td>United Kingdom</td>\n",
       "    </tr>\n",
       "    <tr>\n",
       "      <th>1</th>\n",
       "      <td>489434</td>\n",
       "      <td>79323P</td>\n",
       "      <td>PINK CHERRY LIGHTS</td>\n",
       "      <td>12</td>\n",
       "      <td>2009-12-01 07:45:00</td>\n",
       "      <td>6.75</td>\n",
       "      <td>13085.0</td>\n",
       "      <td>United Kingdom</td>\n",
       "    </tr>\n",
       "    <tr>\n",
       "      <th>2</th>\n",
       "      <td>489434</td>\n",
       "      <td>79323W</td>\n",
       "      <td>WHITE CHERRY LIGHTS</td>\n",
       "      <td>12</td>\n",
       "      <td>2009-12-01 07:45:00</td>\n",
       "      <td>6.75</td>\n",
       "      <td>13085.0</td>\n",
       "      <td>United Kingdom</td>\n",
       "    </tr>\n",
       "    <tr>\n",
       "      <th>3</th>\n",
       "      <td>489434</td>\n",
       "      <td>22041</td>\n",
       "      <td>RECORD FRAME 7\" SINGLE SIZE</td>\n",
       "      <td>48</td>\n",
       "      <td>2009-12-01 07:45:00</td>\n",
       "      <td>2.10</td>\n",
       "      <td>13085.0</td>\n",
       "      <td>United Kingdom</td>\n",
       "    </tr>\n",
       "    <tr>\n",
       "      <th>4</th>\n",
       "      <td>489434</td>\n",
       "      <td>21232</td>\n",
       "      <td>STRAWBERRY CERAMIC TRINKET BOX</td>\n",
       "      <td>24</td>\n",
       "      <td>2009-12-01 07:45:00</td>\n",
       "      <td>1.25</td>\n",
       "      <td>13085.0</td>\n",
       "      <td>United Kingdom</td>\n",
       "    </tr>\n",
       "  </tbody>\n",
       "</table>\n",
       "</div>"
      ],
      "text/plain": [
       "  Invoice StockCode                          Description  Quantity  \\\n",
       "0  489434     85048  15CM CHRISTMAS GLASS BALL 20 LIGHTS        12   \n",
       "1  489434    79323P                   PINK CHERRY LIGHTS        12   \n",
       "2  489434    79323W                  WHITE CHERRY LIGHTS        12   \n",
       "3  489434     22041         RECORD FRAME 7\" SINGLE SIZE         48   \n",
       "4  489434     21232       STRAWBERRY CERAMIC TRINKET BOX        24   \n",
       "\n",
       "          InvoiceDate  Price  Customer ID         Country  \n",
       "0 2009-12-01 07:45:00   6.95      13085.0  United Kingdom  \n",
       "1 2009-12-01 07:45:00   6.75      13085.0  United Kingdom  \n",
       "2 2009-12-01 07:45:00   6.75      13085.0  United Kingdom  \n",
       "3 2009-12-01 07:45:00   2.10      13085.0  United Kingdom  \n",
       "4 2009-12-01 07:45:00   1.25      13085.0  United Kingdom  "
      ]
     },
     "execution_count": 2,
     "metadata": {},
     "output_type": "execute_result"
    }
   ],
   "source": [
    "df = pd.read_excel(\"data.xlsx\")\n",
    "df.head()"
   ]
  },
  {
   "cell_type": "markdown",
   "id": "2f026015",
   "metadata": {},
   "source": [
    "### Note\n",
    "\n",
    "To improve readability, we have set the 'InvoiceDate' column as the index of the dataset.\n",
    "This guarantees that each row is unique, eliminating the need for the default numerical index."
   ]
  },
  {
   "cell_type": "code",
   "execution_count": 3,
   "id": "bd330394",
   "metadata": {},
   "outputs": [],
   "source": [
    "df['InvoiceDate'] = pd.to_datetime(df['InvoiceDate'])\n",
    "df = df.set_index('InvoiceDate')"
   ]
  },
  {
   "cell_type": "code",
   "execution_count": 4,
   "id": "dd5f879d",
   "metadata": {},
   "outputs": [
    {
     "data": {
      "text/plain": [
       "(525461, 7)"
      ]
     },
     "execution_count": 4,
     "metadata": {},
     "output_type": "execute_result"
    }
   ],
   "source": [
    "df.shape"
   ]
  },
  {
   "cell_type": "markdown",
   "id": "a0e4714b",
   "metadata": {},
   "source": [
    "## Exploratory Data Analysis"
   ]
  },
  {
   "cell_type": "code",
   "execution_count": 5,
   "id": "5a405d52",
   "metadata": {},
   "outputs": [
    {
     "name": "stdout",
     "output_type": "stream",
     "text": [
      "<class 'pandas.core.frame.DataFrame'>\n",
      "DatetimeIndex: 525461 entries, 2009-12-01 07:45:00 to 2010-12-09 20:01:00\n",
      "Data columns (total 7 columns):\n",
      " #   Column       Non-Null Count   Dtype  \n",
      "---  ------       --------------   -----  \n",
      " 0   Invoice      525461 non-null  object \n",
      " 1   StockCode    525461 non-null  object \n",
      " 2   Description  522533 non-null  object \n",
      " 3   Quantity     525461 non-null  int64  \n",
      " 4   Price        525461 non-null  float64\n",
      " 5   Customer ID  417534 non-null  float64\n",
      " 6   Country      525461 non-null  object \n",
      "dtypes: float64(2), int64(1), object(4)\n",
      "memory usage: 32.1+ MB\n"
     ]
    }
   ],
   "source": [
    "df.info()"
   ]
  },
  {
   "cell_type": "code",
   "execution_count": 6,
   "id": "7fcc5f04",
   "metadata": {},
   "outputs": [
    {
     "data": {
      "text/plain": [
       "Invoice         object\n",
       "StockCode       object\n",
       "Description     object\n",
       "Quantity         int64\n",
       "Price          float64\n",
       "Customer ID    float64\n",
       "Country         object\n",
       "dtype: object"
      ]
     },
     "execution_count": 6,
     "metadata": {},
     "output_type": "execute_result"
    }
   ],
   "source": [
    "df.dtypes"
   ]
  },
  {
   "cell_type": "code",
   "execution_count": 7,
   "id": "cf914698",
   "metadata": {},
   "outputs": [],
   "source": [
    "# # To prevent errors, converting 'Description','Invoice' and 'StockCode' to a string.\n",
    "# df['Description'] = df['Description'].astype(str)\n",
    "# df['Invoice'] = df['Invoice'].astype(str)\n",
    "# df['StockCode'] = df['StockCode'].astype(str)"
   ]
  },
  {
   "cell_type": "code",
   "execution_count": 8,
   "id": "6ed1555c",
   "metadata": {},
   "outputs": [
    {
     "data": {
      "text/html": [
       "<div>\n",
       "<style scoped>\n",
       "    .dataframe tbody tr th:only-of-type {\n",
       "        vertical-align: middle;\n",
       "    }\n",
       "\n",
       "    .dataframe tbody tr th {\n",
       "        vertical-align: top;\n",
       "    }\n",
       "\n",
       "    .dataframe thead th {\n",
       "        text-align: right;\n",
       "    }\n",
       "</style>\n",
       "<table border=\"1\" class=\"dataframe\">\n",
       "  <thead>\n",
       "    <tr style=\"text-align: right;\">\n",
       "      <th></th>\n",
       "      <th>Quantity</th>\n",
       "      <th>Price</th>\n",
       "      <th>Customer ID</th>\n",
       "    </tr>\n",
       "  </thead>\n",
       "  <tbody>\n",
       "    <tr>\n",
       "      <th>count</th>\n",
       "      <td>525461.000000</td>\n",
       "      <td>525461.000000</td>\n",
       "      <td>417534.000000</td>\n",
       "    </tr>\n",
       "    <tr>\n",
       "      <th>mean</th>\n",
       "      <td>10.337667</td>\n",
       "      <td>4.688834</td>\n",
       "      <td>15360.645478</td>\n",
       "    </tr>\n",
       "    <tr>\n",
       "      <th>std</th>\n",
       "      <td>107.424110</td>\n",
       "      <td>146.126914</td>\n",
       "      <td>1680.811316</td>\n",
       "    </tr>\n",
       "    <tr>\n",
       "      <th>min</th>\n",
       "      <td>-9600.000000</td>\n",
       "      <td>-53594.360000</td>\n",
       "      <td>12346.000000</td>\n",
       "    </tr>\n",
       "    <tr>\n",
       "      <th>25%</th>\n",
       "      <td>1.000000</td>\n",
       "      <td>1.250000</td>\n",
       "      <td>13983.000000</td>\n",
       "    </tr>\n",
       "    <tr>\n",
       "      <th>50%</th>\n",
       "      <td>3.000000</td>\n",
       "      <td>2.100000</td>\n",
       "      <td>15311.000000</td>\n",
       "    </tr>\n",
       "    <tr>\n",
       "      <th>75%</th>\n",
       "      <td>10.000000</td>\n",
       "      <td>4.210000</td>\n",
       "      <td>16799.000000</td>\n",
       "    </tr>\n",
       "    <tr>\n",
       "      <th>max</th>\n",
       "      <td>19152.000000</td>\n",
       "      <td>25111.090000</td>\n",
       "      <td>18287.000000</td>\n",
       "    </tr>\n",
       "  </tbody>\n",
       "</table>\n",
       "</div>"
      ],
      "text/plain": [
       "            Quantity          Price    Customer ID\n",
       "count  525461.000000  525461.000000  417534.000000\n",
       "mean       10.337667       4.688834   15360.645478\n",
       "std       107.424110     146.126914    1680.811316\n",
       "min     -9600.000000  -53594.360000   12346.000000\n",
       "25%         1.000000       1.250000   13983.000000\n",
       "50%         3.000000       2.100000   15311.000000\n",
       "75%        10.000000       4.210000   16799.000000\n",
       "max     19152.000000   25111.090000   18287.000000"
      ]
     },
     "execution_count": 8,
     "metadata": {},
     "output_type": "execute_result"
    }
   ],
   "source": [
    "df.describe()"
   ]
  },
  {
   "cell_type": "code",
   "execution_count": 9,
   "id": "e44c8426",
   "metadata": {},
   "outputs": [
    {
     "data": {
      "text/plain": [
       "40"
      ]
     },
     "execution_count": 9,
     "metadata": {},
     "output_type": "execute_result"
    }
   ],
   "source": [
    "df.Country.nunique()"
   ]
  },
  {
   "cell_type": "code",
   "execution_count": 10,
   "id": "486d8264",
   "metadata": {},
   "outputs": [
    {
     "data": {
      "text/plain": [
       "array(['United Kingdom', 'France', 'USA', 'Belgium', 'Australia', 'EIRE',\n",
       "       'Germany', 'Portugal', 'Japan', 'Denmark', 'Nigeria',\n",
       "       'Netherlands', 'Poland', 'Spain', 'Channel Islands', 'Italy',\n",
       "       'Cyprus', 'Greece', 'Norway', 'Austria', 'Sweden',\n",
       "       'United Arab Emirates', 'Finland', 'Switzerland', 'Unspecified',\n",
       "       'Malta', 'Bahrain', 'RSA', 'Bermuda', 'Hong Kong', 'Singapore',\n",
       "       'Thailand', 'Israel', 'Lithuania', 'West Indies', 'Lebanon',\n",
       "       'Korea', 'Brazil', 'Canada', 'Iceland'], dtype=object)"
      ]
     },
     "execution_count": 10,
     "metadata": {},
     "output_type": "execute_result"
    }
   ],
   "source": [
    "df.Country.unique()"
   ]
  },
  {
   "cell_type": "code",
   "execution_count": 11,
   "id": "742c66a6",
   "metadata": {},
   "outputs": [
    {
     "data": {
      "text/html": [
       "<div>\n",
       "<style scoped>\n",
       "    .dataframe tbody tr th:only-of-type {\n",
       "        vertical-align: middle;\n",
       "    }\n",
       "\n",
       "    .dataframe tbody tr th {\n",
       "        vertical-align: top;\n",
       "    }\n",
       "\n",
       "    .dataframe thead th {\n",
       "        text-align: right;\n",
       "    }\n",
       "</style>\n",
       "<table border=\"1\" class=\"dataframe\">\n",
       "  <thead>\n",
       "    <tr style=\"text-align: right;\">\n",
       "      <th></th>\n",
       "      <th>Country</th>\n",
       "      <th>Customer ID</th>\n",
       "    </tr>\n",
       "  </thead>\n",
       "  <tbody>\n",
       "    <tr>\n",
       "      <th>37</th>\n",
       "      <td>United Kingdom</td>\n",
       "      <td>379423</td>\n",
       "    </tr>\n",
       "    <tr>\n",
       "      <th>10</th>\n",
       "      <td>EIRE</td>\n",
       "      <td>8710</td>\n",
       "    </tr>\n",
       "    <tr>\n",
       "      <th>13</th>\n",
       "      <td>Germany</td>\n",
       "      <td>8129</td>\n",
       "    </tr>\n",
       "    <tr>\n",
       "      <th>12</th>\n",
       "      <td>France</td>\n",
       "      <td>5710</td>\n",
       "    </tr>\n",
       "    <tr>\n",
       "      <th>24</th>\n",
       "      <td>Netherlands</td>\n",
       "      <td>2769</td>\n",
       "    </tr>\n",
       "  </tbody>\n",
       "</table>\n",
       "</div>"
      ],
      "text/plain": [
       "           Country  Customer ID\n",
       "37  United Kingdom       379423\n",
       "10            EIRE         8710\n",
       "13         Germany         8129\n",
       "12          France         5710\n",
       "24     Netherlands         2769"
      ]
     },
     "execution_count": 11,
     "metadata": {},
     "output_type": "execute_result"
    }
   ],
   "source": [
    "customer_country=df[['Country','Customer ID']]\n",
    "customer_country.groupby(['Country'])['Customer ID'].aggregate('count').reset_index().sort_values('Customer ID', ascending=False).head()"
   ]
  },
  {
   "cell_type": "code",
   "execution_count": 12,
   "id": "4b3b89f0",
   "metadata": {},
   "outputs": [
    {
     "data": {
      "text/html": [
       "<div>\n",
       "<style scoped>\n",
       "    .dataframe tbody tr th:only-of-type {\n",
       "        vertical-align: middle;\n",
       "    }\n",
       "\n",
       "    .dataframe tbody tr th {\n",
       "        vertical-align: top;\n",
       "    }\n",
       "\n",
       "    .dataframe thead th {\n",
       "        text-align: right;\n",
       "    }\n",
       "</style>\n",
       "<table border=\"1\" class=\"dataframe\">\n",
       "  <thead>\n",
       "    <tr style=\"text-align: right;\">\n",
       "      <th></th>\n",
       "      <th>0</th>\n",
       "    </tr>\n",
       "  </thead>\n",
       "  <tbody>\n",
       "    <tr>\n",
       "      <th>Invoice</th>\n",
       "      <td>28816</td>\n",
       "    </tr>\n",
       "    <tr>\n",
       "      <th>StockCode</th>\n",
       "      <td>4632</td>\n",
       "    </tr>\n",
       "    <tr>\n",
       "      <th>Description</th>\n",
       "      <td>4681</td>\n",
       "    </tr>\n",
       "    <tr>\n",
       "      <th>Quantity</th>\n",
       "      <td>825</td>\n",
       "    </tr>\n",
       "    <tr>\n",
       "      <th>Price</th>\n",
       "      <td>1606</td>\n",
       "    </tr>\n",
       "    <tr>\n",
       "      <th>Customer ID</th>\n",
       "      <td>4383</td>\n",
       "    </tr>\n",
       "    <tr>\n",
       "      <th>Country</th>\n",
       "      <td>40</td>\n",
       "    </tr>\n",
       "  </tbody>\n",
       "</table>\n",
       "</div>"
      ],
      "text/plain": [
       "                 0\n",
       "Invoice      28816\n",
       "StockCode     4632\n",
       "Description   4681\n",
       "Quantity       825\n",
       "Price         1606\n",
       "Customer ID   4383\n",
       "Country         40"
      ]
     },
     "execution_count": 12,
     "metadata": {},
     "output_type": "execute_result"
    }
   ],
   "source": [
    "pd.DataFrame(df.nunique())"
   ]
  },
  {
   "cell_type": "code",
   "execution_count": 24,
   "id": "f9577fbc",
   "metadata": {},
   "outputs": [
    {
     "data": {
      "text/html": [
       "<div>\n",
       "<style scoped>\n",
       "    .dataframe tbody tr th:only-of-type {\n",
       "        vertical-align: middle;\n",
       "    }\n",
       "\n",
       "    .dataframe tbody tr th {\n",
       "        vertical-align: top;\n",
       "    }\n",
       "\n",
       "    .dataframe thead th {\n",
       "        text-align: right;\n",
       "    }\n",
       "</style>\n",
       "<table border=\"1\" class=\"dataframe\">\n",
       "  <thead>\n",
       "    <tr style=\"text-align: right;\">\n",
       "      <th></th>\n",
       "      <th>Invoice</th>\n",
       "      <th>StockCode</th>\n",
       "      <th>Description</th>\n",
       "      <th>Quantity</th>\n",
       "      <th>Price</th>\n",
       "      <th>Customer ID</th>\n",
       "      <th>Country</th>\n",
       "    </tr>\n",
       "    <tr>\n",
       "      <th>InvoiceDate</th>\n",
       "      <th></th>\n",
       "      <th></th>\n",
       "      <th></th>\n",
       "      <th></th>\n",
       "      <th></th>\n",
       "      <th></th>\n",
       "      <th></th>\n",
       "    </tr>\n",
       "  </thead>\n",
       "  <tbody>\n",
       "    <tr>\n",
       "      <th>2009-12-01 10:33:00</th>\n",
       "      <td>C489449</td>\n",
       "      <td>22087</td>\n",
       "      <td>PAPER BUNTING WHITE LACE</td>\n",
       "      <td>-12</td>\n",
       "      <td>2.95</td>\n",
       "      <td>16321.0</td>\n",
       "      <td>Australia</td>\n",
       "    </tr>\n",
       "    <tr>\n",
       "      <th>2009-12-01 10:33:00</th>\n",
       "      <td>C489449</td>\n",
       "      <td>85206A</td>\n",
       "      <td>CREAM FELT EASTER EGG BASKET</td>\n",
       "      <td>-6</td>\n",
       "      <td>1.65</td>\n",
       "      <td>16321.0</td>\n",
       "      <td>Australia</td>\n",
       "    </tr>\n",
       "    <tr>\n",
       "      <th>2009-12-01 10:33:00</th>\n",
       "      <td>C489449</td>\n",
       "      <td>21895</td>\n",
       "      <td>POTTING SHED SOW 'N' GROW SET</td>\n",
       "      <td>-4</td>\n",
       "      <td>4.25</td>\n",
       "      <td>16321.0</td>\n",
       "      <td>Australia</td>\n",
       "    </tr>\n",
       "    <tr>\n",
       "      <th>2009-12-01 10:33:00</th>\n",
       "      <td>C489449</td>\n",
       "      <td>21896</td>\n",
       "      <td>POTTING SHED TWINE</td>\n",
       "      <td>-6</td>\n",
       "      <td>2.10</td>\n",
       "      <td>16321.0</td>\n",
       "      <td>Australia</td>\n",
       "    </tr>\n",
       "    <tr>\n",
       "      <th>2009-12-01 10:33:00</th>\n",
       "      <td>C489449</td>\n",
       "      <td>22083</td>\n",
       "      <td>PAPER CHAIN KIT RETRO SPOT</td>\n",
       "      <td>-12</td>\n",
       "      <td>2.95</td>\n",
       "      <td>16321.0</td>\n",
       "      <td>Australia</td>\n",
       "    </tr>\n",
       "  </tbody>\n",
       "</table>\n",
       "</div>"
      ],
      "text/plain": [
       "                     Invoice StockCode                    Description  \\\n",
       "InvoiceDate                                                             \n",
       "2009-12-01 10:33:00  C489449     22087       PAPER BUNTING WHITE LACE   \n",
       "2009-12-01 10:33:00  C489449    85206A   CREAM FELT EASTER EGG BASKET   \n",
       "2009-12-01 10:33:00  C489449     21895  POTTING SHED SOW 'N' GROW SET   \n",
       "2009-12-01 10:33:00  C489449     21896             POTTING SHED TWINE   \n",
       "2009-12-01 10:33:00  C489449     22083     PAPER CHAIN KIT RETRO SPOT   \n",
       "\n",
       "                     Quantity  Price  Customer ID    Country  \n",
       "InvoiceDate                                                   \n",
       "2009-12-01 10:33:00       -12   2.95      16321.0  Australia  \n",
       "2009-12-01 10:33:00        -6   1.65      16321.0  Australia  \n",
       "2009-12-01 10:33:00        -4   4.25      16321.0  Australia  \n",
       "2009-12-01 10:33:00        -6   2.10      16321.0  Australia  \n",
       "2009-12-01 10:33:00       -12   2.95      16321.0  Australia  "
      ]
     },
     "execution_count": 24,
     "metadata": {},
     "output_type": "execute_result"
    }
   ],
   "source": []
  },
  {
   "cell_type": "markdown",
   "id": "b0250757",
   "metadata": {},
   "source": [
    "## Null values"
   ]
  },
  {
   "cell_type": "code",
   "execution_count": 13,
   "id": "11085697",
   "metadata": {},
   "outputs": [
    {
     "data": {
      "text/plain": [
       "Invoice             0\n",
       "StockCode           0\n",
       "Description      2928\n",
       "Quantity            0\n",
       "Price               0\n",
       "Customer ID    107927\n",
       "Country             0\n",
       "dtype: int64"
      ]
     },
     "execution_count": 13,
     "metadata": {},
     "output_type": "execute_result"
    }
   ],
   "source": [
    "df.isnull().sum(axis=0)"
   ]
  },
  {
   "cell_type": "code",
   "execution_count": 14,
   "id": "b8103f44",
   "metadata": {},
   "outputs": [
    {
     "data": {
      "text/plain": [
       "InvoiceDate\n",
       "2010-12-09 20:01:00                CHRYSANTHEMUM NOTEBOOK\n",
       "2010-12-09 20:01:00               GARDEN PATH POCKET BOOK\n",
       "2010-12-09 20:01:00                 GARDEN PATH NOTEBOOK \n",
       "2010-12-09 20:01:00                   GREEN FERN NOTEBOOK\n",
       "2010-12-09 20:01:00          ABSTRACT CIRCLES POCKET BOOK\n",
       "2010-12-09 20:01:00          RETROSPOT GIANT TUBE MATCHES\n",
       "2010-12-09 20:01:00    MAKE YOUR OWN FLOWERPOWER CARD KIT\n",
       "2010-12-09 20:01:00         WHITE SKULL HOT WATER BOTTLE \n",
       "2010-12-09 20:01:00       HOT WATER BOTTLE I AM SO POORLY\n",
       "2010-12-09 20:01:00                             BINGO SET\n",
       "2010-12-09 20:01:00                      HOLIDAY FUN LUDO\n",
       "2010-12-09 20:01:00              ABSTRACT CIRCLE JOURNAL \n",
       "2010-12-09 20:01:00                CHRYSANTHEMUM  JOURNAL\n",
       "2010-12-09 20:01:00                           SKULLS TAPE\n",
       "2010-12-09 20:01:00                      HEARTS GIFT TAPE\n",
       "2010-12-09 20:01:00             CHRYSANTHEMUM SKETCHBOOK \n",
       "2010-12-09 20:01:00                GREEN FERN SKETCHBOOK \n",
       "2010-12-09 20:01:00          ABSTRACT CIRCLES SKETCHBOOK \n",
       "2010-12-09 20:01:00          REX CASH+CARRY JUMBO SHOPPER\n",
       "2010-12-09 20:01:00    SET OF 72 RETROSPOT PAPER  DOILIES\n",
       "2010-12-09 20:01:00    SET OF 36 DOILIES SPACEBOY DESIGN \n",
       "2010-12-09 20:01:00        SET OF 72 SKULL PAPER  DOILIES\n",
       "2010-12-09 20:01:00       CHILDRENS APRON SPACEBOY DESIGN\n",
       "2010-12-09 20:01:00             RETROSPOT CHILDRENS APRON\n",
       "2010-12-09 20:01:00       PINK FAIRY CAKE CHILDRENS APRON\n",
       "2010-12-09 20:01:00              SCOTTIES CHILDRENS APRON\n",
       "2010-12-09 20:01:00          CHILDREN'S APRON DOLLY GIRL \n",
       "2010-12-09 20:01:00         CHOCOLATE THIS WAY METAL SIGN\n",
       "2010-12-09 20:01:00               MORE BUTTER METAL SIGN \n",
       "2010-12-09 20:01:00        PACK OF 20 SKULL PAPER NAPKINS\n",
       "2010-12-09 20:01:00            HOT WATER BOTTLE BABUSHKA \n",
       "2010-12-09 20:01:00       HAND OVER THE CHOCOLATE   SIGN \n",
       "2010-12-09 20:01:00               DINOSAURS  WRITING SET \n",
       "2010-12-09 20:01:00                   SKULLS WRITING SET \n",
       "2010-12-09 20:01:00       RECIPE BOX PANTRY YELLOW DESIGN\n",
       "2010-12-09 20:01:00           ANGEL DECORATION 3 BUTTONS \n",
       "2010-12-09 20:01:00                      KINGS CHOICE MUG\n",
       "2010-12-09 20:01:00                   SAVE THE PLANET MUG\n",
       "2010-12-09 20:01:00                   HOME SWEET HOME MUG\n",
       "2010-12-09 20:01:00            POPPY'S PLAYHOUSE BATHROOM\n",
       "2010-12-09 20:01:00             POPPY'S PLAYHOUSE KITCHEN\n",
       "2010-12-09 20:01:00            POPPY'S PLAYHOUSE BEDROOM \n",
       "2010-12-09 20:01:00       CLOTHES PEGS RETROSPOT PACK 24 \n",
       "2010-12-09 20:01:00          RED SPOT CERAMIC DRAWER KNOB\n",
       "2010-12-09 20:01:00      PINK BLUE FELT CRAFT TRINKET BOX\n",
       "2010-12-09 20:01:00                  FELTCRAFT DOLL ROSIE\n",
       "2010-12-09 20:01:00          FELTCRAFT PRINCESS LOLA DOLL\n",
       "2010-12-09 20:01:00        FELTCRAFT PRINCESS OLIVIA DOLL\n",
       "2010-12-09 20:01:00    PINK FLORAL FELTCRAFT SHOULDER BAG\n",
       "2010-12-09 20:01:00                JUMBO STORAGE BAG SUKI\n",
       "Name: Description, dtype: object"
      ]
     },
     "execution_count": 14,
     "metadata": {},
     "output_type": "execute_result"
    }
   ],
   "source": [
    "df['Description'].tail(50)"
   ]
  },
  {
   "cell_type": "code",
   "execution_count": 15,
   "id": "17fe371b",
   "metadata": {},
   "outputs": [
    {
     "data": {
      "text/html": [
       "<div>\n",
       "<style scoped>\n",
       "    .dataframe tbody tr th:only-of-type {\n",
       "        vertical-align: middle;\n",
       "    }\n",
       "\n",
       "    .dataframe tbody tr th {\n",
       "        vertical-align: top;\n",
       "    }\n",
       "\n",
       "    .dataframe thead th {\n",
       "        text-align: right;\n",
       "    }\n",
       "</style>\n",
       "<table border=\"1\" class=\"dataframe\">\n",
       "  <thead>\n",
       "    <tr style=\"text-align: right;\">\n",
       "      <th></th>\n",
       "      <th>Invoice</th>\n",
       "      <th>StockCode</th>\n",
       "      <th>Description</th>\n",
       "      <th>Quantity</th>\n",
       "      <th>Price</th>\n",
       "      <th>Customer ID</th>\n",
       "      <th>Country</th>\n",
       "    </tr>\n",
       "    <tr>\n",
       "      <th>InvoiceDate</th>\n",
       "      <th></th>\n",
       "      <th></th>\n",
       "      <th></th>\n",
       "      <th></th>\n",
       "      <th></th>\n",
       "      <th></th>\n",
       "      <th></th>\n",
       "    </tr>\n",
       "  </thead>\n",
       "  <tbody>\n",
       "    <tr>\n",
       "      <th>2010-12-09 15:58:00</th>\n",
       "      <td>538141</td>\n",
       "      <td>22218</td>\n",
       "      <td>NaN</td>\n",
       "      <td>2</td>\n",
       "      <td>0.0</td>\n",
       "      <td>NaN</td>\n",
       "      <td>United Kingdom</td>\n",
       "    </tr>\n",
       "    <tr>\n",
       "      <th>2010-12-09 15:58:00</th>\n",
       "      <td>538143</td>\n",
       "      <td>84534B</td>\n",
       "      <td>NaN</td>\n",
       "      <td>1</td>\n",
       "      <td>0.0</td>\n",
       "      <td>NaN</td>\n",
       "      <td>United Kingdom</td>\n",
       "    </tr>\n",
       "    <tr>\n",
       "      <th>2010-12-09 17:17:00</th>\n",
       "      <td>538159</td>\n",
       "      <td>21324</td>\n",
       "      <td>NaN</td>\n",
       "      <td>-18</td>\n",
       "      <td>0.0</td>\n",
       "      <td>NaN</td>\n",
       "      <td>United Kingdom</td>\n",
       "    </tr>\n",
       "    <tr>\n",
       "      <th>2010-12-09 17:17:00</th>\n",
       "      <td>538158</td>\n",
       "      <td>20892</td>\n",
       "      <td>NaN</td>\n",
       "      <td>-32</td>\n",
       "      <td>0.0</td>\n",
       "      <td>NaN</td>\n",
       "      <td>United Kingdom</td>\n",
       "    </tr>\n",
       "    <tr>\n",
       "      <th>2010-12-09 17:18:00</th>\n",
       "      <td>538160</td>\n",
       "      <td>20956</td>\n",
       "      <td>NaN</td>\n",
       "      <td>288</td>\n",
       "      <td>0.0</td>\n",
       "      <td>NaN</td>\n",
       "      <td>United Kingdom</td>\n",
       "    </tr>\n",
       "  </tbody>\n",
       "</table>\n",
       "</div>"
      ],
      "text/plain": [
       "                    Invoice StockCode Description  Quantity  Price  \\\n",
       "InvoiceDate                                                          \n",
       "2010-12-09 15:58:00  538141     22218         NaN         2    0.0   \n",
       "2010-12-09 15:58:00  538143    84534B         NaN         1    0.0   \n",
       "2010-12-09 17:17:00  538159     21324         NaN       -18    0.0   \n",
       "2010-12-09 17:17:00  538158     20892         NaN       -32    0.0   \n",
       "2010-12-09 17:18:00  538160     20956         NaN       288    0.0   \n",
       "\n",
       "                     Customer ID         Country  \n",
       "InvoiceDate                                       \n",
       "2010-12-09 15:58:00          NaN  United Kingdom  \n",
       "2010-12-09 15:58:00          NaN  United Kingdom  \n",
       "2010-12-09 17:17:00          NaN  United Kingdom  \n",
       "2010-12-09 17:17:00          NaN  United Kingdom  \n",
       "2010-12-09 17:18:00          NaN  United Kingdom  "
      ]
     },
     "execution_count": 15,
     "metadata": {},
     "output_type": "execute_result"
    }
   ],
   "source": [
    "df[df['Description'].isnull()].tail()"
   ]
  },
  {
   "cell_type": "markdown",
   "id": "8a898dad",
   "metadata": {},
   "source": [
    "Note\n",
    "\n",
    "- The Price in these rows is 0, indicating that these orders did not generate any sales.\n",
    "\n",
    "- At present, we can impute it with 'UNKNOWN ITEM' and address those later during the analysis."
   ]
  },
  {
   "cell_type": "markdown",
   "id": "ed85f59e",
   "metadata": {},
   "source": [
    "#### Analyzing \"Description\" feature"
   ]
  },
  {
   "cell_type": "code",
   "execution_count": 16,
   "id": "8ada3aa0",
   "metadata": {},
   "outputs": [
    {
     "data": {
      "text/plain": [
       "wet ctn                                1\n",
       "RUSSIAN FOLKART STACKING TINS          1\n",
       "correct previous adjustment            1\n",
       "SET OF 2 CHESTS CHOCOLAT AU LAIT       1\n",
       "HEART MEASURING SPOONS SMALL           1\n",
       "LARGE WHITE CHOCOLATE CANDLE           1\n",
       "missings                               1\n",
       "missing (wrongly coded?)               1\n",
       "BAG FOR CHILDREN VINTAGE BLUE          1\n",
       "Sold as 17003?                         1\n",
       "BAG FOR CHILDREN VINTAGE PINK          1\n",
       "BLUE OWL DECORATION                    1\n",
       "PINK OWL DECORATION                    1\n",
       "IVORY WALL CLOCK                       1\n",
       "RED WALL CLOCK                         1\n",
       "stock credited from royal yacht inc    1\n",
       "VINTAGE METAL CAKE STAND CREAM         1\n",
       "BLUE BAROQUE FLOCK CANDLE HOLDER       1\n",
       "S/4 HEART CRYSTAL FRIDGE MAGNETS       1\n",
       "dotcom email                           1\n",
       "Name: Description, dtype: int64"
      ]
     },
     "execution_count": 16,
     "metadata": {},
     "output_type": "execute_result"
    }
   ],
   "source": [
    "df['Description'].value_counts().tail(20)"
   ]
  },
  {
   "cell_type": "code",
   "execution_count": 17,
   "id": "dc50fee6",
   "metadata": {},
   "outputs": [
    {
     "data": {
      "text/plain": [
       "WHITE HANGING HEART T-LIGHT HOLDER    3549\n",
       "REGENCY CAKESTAND 3 TIER              2212\n",
       "STRAWBERRY CERAMIC TRINKET BOX        1843\n",
       "PACK OF 72 RETRO SPOT CAKE CASES      1466\n",
       "ASSORTED COLOUR BIRD ORNAMENT         1457\n",
       "Name: Description, dtype: int64"
      ]
     },
     "execution_count": 17,
     "metadata": {},
     "output_type": "execute_result"
    }
   ],
   "source": [
    "df['Description'].value_counts().head()"
   ]
  },
  {
   "cell_type": "markdown",
   "id": "5d78b958",
   "metadata": {},
   "source": [
    "Note\n",
    "\n",
    "The code above shows that valid items are typically in uppercase, while non-valid or cancelled items are in lowercase."
   ]
  },
  {
   "cell_type": "markdown",
   "id": "939a90d0",
   "metadata": {},
   "source": [
    "#### Analyzing Invoice feature"
   ]
  },
  {
   "cell_type": "code",
   "execution_count": 21,
   "id": "afeff9a9",
   "metadata": {},
   "outputs": [
    {
     "data": {
      "text/plain": [
       "506582     1\n",
       "506575     1\n",
       "523913     1\n",
       "523896     1\n",
       "523906     1\n",
       "506568     1\n",
       "523910     1\n",
       "506567     1\n",
       "523914     1\n",
       "523915     1\n",
       "C523952    1\n",
       "C506495    1\n",
       "C506493    1\n",
       "C491616    1\n",
       "C491619    1\n",
       "506471     1\n",
       "C524005    1\n",
       "506468     1\n",
       "524013     1\n",
       "524015     1\n",
       "493900     1\n",
       "524027     1\n",
       "C491626    1\n",
       "493924     1\n",
       "C524058    1\n",
       "524063     1\n",
       "C506441    1\n",
       "493928     1\n",
       "524095     1\n",
       "C491611    1\n",
       "C506476    1\n",
       "C491621    1\n",
       "C523991    1\n",
       "C491623    1\n",
       "C506489    1\n",
       "C506488    1\n",
       "C506485    1\n",
       "C506484    1\n",
       "C506483    1\n",
       "C506482    1\n",
       "C506481    1\n",
       "C506480    1\n",
       "C523975    1\n",
       "523979     1\n",
       "C523978    1\n",
       "523981     1\n",
       "523984     1\n",
       "523985     1\n",
       "C523988    1\n",
       "C516462    1\n",
       "Name: Invoice, dtype: int64"
      ]
     },
     "execution_count": 21,
     "metadata": {},
     "output_type": "execute_result"
    }
   ],
   "source": [
    "df['Invoice'].value_counts().tail(50)"
   ]
  },
  {
   "cell_type": "code",
   "execution_count": 23,
   "id": "a264e188",
   "metadata": {},
   "outputs": [
    {
     "data": {
      "text/plain": [
       "537434    675\n",
       "538071    652\n",
       "537638    601\n",
       "537237    597\n",
       "536876    593\n",
       "Name: Invoice, dtype: int64"
      ]
     },
     "execution_count": 23,
     "metadata": {},
     "output_type": "execute_result"
    }
   ],
   "source": [
    "df['Invoice'].value_counts().head()"
   ]
  },
  {
   "cell_type": "code",
   "execution_count": null,
   "id": "1824d205",
   "metadata": {},
   "outputs": [],
   "source": []
  },
  {
   "cell_type": "code",
   "execution_count": null,
   "id": "6c9fcd6a",
   "metadata": {},
   "outputs": [],
   "source": [
    "dsgsdf"
   ]
  },
  {
   "cell_type": "markdown",
   "id": "e22c9c76",
   "metadata": {},
   "source": [
    "## Data cleaning"
   ]
  },
  {
   "cell_type": "code",
   "execution_count": null,
   "id": "046ce49b",
   "metadata": {},
   "outputs": [],
   "source": [
    "customer_country=df[['Country','Customer ID']].drop_duplicates()\n",
    "customer_country.groupby(['Country'])['Customer ID'].aggregate('count').reset_index().sort_values('Customer ID', ascending=False).head()"
   ]
  },
  {
   "cell_type": "code",
   "execution_count": null,
   "id": "36a9d4c5",
   "metadata": {},
   "outputs": [],
   "source": [
    "df['Description'] = df['Description'].fillna('UNKNOWN ITEM')\n",
    "df.isnull().sum()"
   ]
  },
  {
   "cell_type": "code",
   "execution_count": null,
   "id": "ef3659b9",
   "metadata": {},
   "outputs": [],
   "source": [
    "df = df[pd.notnull(df1['CustomerID'])]\n",
    "df1.isnull().sum(axis=0)"
   ]
  },
  {
   "cell_type": "markdown",
   "id": "a762a3ab",
   "metadata": {},
   "source": [
    "## Exploratory Data Analysis II"
   ]
  },
  {
   "cell_type": "markdown",
   "id": "ae9e9aaa",
   "metadata": {},
   "source": [
    "### Do we have returns?"
   ]
  },
  {
   "cell_type": "code",
   "execution_count": 25,
   "id": "08499d58",
   "metadata": {},
   "outputs": [
    {
     "data": {
      "text/html": [
       "<div>\n",
       "<style scoped>\n",
       "    .dataframe tbody tr th:only-of-type {\n",
       "        vertical-align: middle;\n",
       "    }\n",
       "\n",
       "    .dataframe tbody tr th {\n",
       "        vertical-align: top;\n",
       "    }\n",
       "\n",
       "    .dataframe thead th {\n",
       "        text-align: right;\n",
       "    }\n",
       "</style>\n",
       "<table border=\"1\" class=\"dataframe\">\n",
       "  <thead>\n",
       "    <tr style=\"text-align: right;\">\n",
       "      <th></th>\n",
       "      <th>Invoice</th>\n",
       "      <th>StockCode</th>\n",
       "      <th>Description</th>\n",
       "      <th>Quantity</th>\n",
       "      <th>Price</th>\n",
       "      <th>Customer ID</th>\n",
       "      <th>Country</th>\n",
       "    </tr>\n",
       "    <tr>\n",
       "      <th>InvoiceDate</th>\n",
       "      <th></th>\n",
       "      <th></th>\n",
       "      <th></th>\n",
       "      <th></th>\n",
       "      <th></th>\n",
       "      <th></th>\n",
       "      <th></th>\n",
       "    </tr>\n",
       "  </thead>\n",
       "  <tbody>\n",
       "    <tr>\n",
       "      <th>2009-12-01 10:33:00</th>\n",
       "      <td>C489449</td>\n",
       "      <td>22087</td>\n",
       "      <td>PAPER BUNTING WHITE LACE</td>\n",
       "      <td>-12</td>\n",
       "      <td>2.95</td>\n",
       "      <td>16321.0</td>\n",
       "      <td>Australia</td>\n",
       "    </tr>\n",
       "    <tr>\n",
       "      <th>2009-12-01 10:33:00</th>\n",
       "      <td>C489449</td>\n",
       "      <td>85206A</td>\n",
       "      <td>CREAM FELT EASTER EGG BASKET</td>\n",
       "      <td>-6</td>\n",
       "      <td>1.65</td>\n",
       "      <td>16321.0</td>\n",
       "      <td>Australia</td>\n",
       "    </tr>\n",
       "    <tr>\n",
       "      <th>2009-12-01 10:33:00</th>\n",
       "      <td>C489449</td>\n",
       "      <td>21895</td>\n",
       "      <td>POTTING SHED SOW 'N' GROW SET</td>\n",
       "      <td>-4</td>\n",
       "      <td>4.25</td>\n",
       "      <td>16321.0</td>\n",
       "      <td>Australia</td>\n",
       "    </tr>\n",
       "    <tr>\n",
       "      <th>2009-12-01 10:33:00</th>\n",
       "      <td>C489449</td>\n",
       "      <td>21896</td>\n",
       "      <td>POTTING SHED TWINE</td>\n",
       "      <td>-6</td>\n",
       "      <td>2.10</td>\n",
       "      <td>16321.0</td>\n",
       "      <td>Australia</td>\n",
       "    </tr>\n",
       "    <tr>\n",
       "      <th>2009-12-01 10:33:00</th>\n",
       "      <td>C489449</td>\n",
       "      <td>22083</td>\n",
       "      <td>PAPER CHAIN KIT RETRO SPOT</td>\n",
       "      <td>-12</td>\n",
       "      <td>2.95</td>\n",
       "      <td>16321.0</td>\n",
       "      <td>Australia</td>\n",
       "    </tr>\n",
       "  </tbody>\n",
       "</table>\n",
       "</div>"
      ],
      "text/plain": [
       "                     Invoice StockCode                    Description  \\\n",
       "InvoiceDate                                                             \n",
       "2009-12-01 10:33:00  C489449     22087       PAPER BUNTING WHITE LACE   \n",
       "2009-12-01 10:33:00  C489449    85206A   CREAM FELT EASTER EGG BASKET   \n",
       "2009-12-01 10:33:00  C489449     21895  POTTING SHED SOW 'N' GROW SET   \n",
       "2009-12-01 10:33:00  C489449     21896             POTTING SHED TWINE   \n",
       "2009-12-01 10:33:00  C489449     22083     PAPER CHAIN KIT RETRO SPOT   \n",
       "\n",
       "                     Quantity  Price  Customer ID    Country  \n",
       "InvoiceDate                                                   \n",
       "2009-12-01 10:33:00       -12   2.95      16321.0  Australia  \n",
       "2009-12-01 10:33:00        -6   1.65      16321.0  Australia  \n",
       "2009-12-01 10:33:00        -4   4.25      16321.0  Australia  \n",
       "2009-12-01 10:33:00        -6   2.10      16321.0  Australia  \n",
       "2009-12-01 10:33:00       -12   2.95      16321.0  Australia  "
      ]
     },
     "execution_count": 25,
     "metadata": {},
     "output_type": "execute_result"
    }
   ],
   "source": [
    "df[df['Quantity'] < 0].head()"
   ]
  },
  {
   "cell_type": "code",
   "execution_count": null,
   "id": "ce246a46",
   "metadata": {},
   "outputs": [],
   "source": []
  },
  {
   "cell_type": "code",
   "execution_count": null,
   "id": "3ed62847",
   "metadata": {},
   "outputs": [],
   "source": []
  },
  {
   "cell_type": "markdown",
   "id": "46846317",
   "metadata": {},
   "source": [
    "Looks like Invoices that start with 'C' are the \"Canceling\"/\"Returning\" invoices. This resolves the mystery of negative quantities.\n",
    "\n",
    "Although, we should've gotten deeper into the analysis of those returns, for the sake of simplicity let's just ignore those values for the moment.\n",
    "\n",
    "We can actually start a separate project based on that data and predict the returning/canceling rates for the store."
   ]
  },
  {
   "cell_type": "code",
   "execution_count": null,
   "id": "76c022c2",
   "metadata": {},
   "outputs": [],
   "source": []
  },
  {
   "cell_type": "code",
   "execution_count": null,
   "id": "2c4e1305",
   "metadata": {},
   "outputs": [],
   "source": []
  },
  {
   "cell_type": "code",
   "execution_count": null,
   "id": "8f77a395",
   "metadata": {},
   "outputs": [],
   "source": []
  },
  {
   "cell_type": "markdown",
   "id": "297f3ec8",
   "metadata": {},
   "source": [
    "## How many customers are not recurrent?"
   ]
  },
  {
   "cell_type": "code",
   "execution_count": null,
   "id": "6fc12d23",
   "metadata": {},
   "outputs": [],
   "source": [
    "def unique_counts(df1):\n",
    "   for i in df1.columns:\n",
    "       count = df1[i].nunique()\n",
    "       print(i, \": \", count)\n",
    "unique_counts(df1)"
   ]
  },
  {
   "cell_type": "markdown",
   "id": "93589687",
   "metadata": {},
   "source": [
    "## What items were purchased more frequently?"
   ]
  },
  {
   "cell_type": "code",
   "execution_count": null,
   "id": "4aaec11d",
   "metadata": {},
   "outputs": [],
   "source": [
    "item_counts = df['Description'].value_counts().sort_values(ascending=False).iloc[0:15]\n",
    "plt.figure(figsize=(18,6))\n",
    "sns.barplot(x=item_counts.index, y=item_counts.values, palette=sns.cubehelix_palette(15))\n",
    "plt.ylabel(\"Counts\")\n",
    "plt.title(\"Which items were bought more often?\");\n",
    "plt.xticks(rotation=90);"
   ]
  },
  {
   "cell_type": "markdown",
   "id": "6481f693",
   "metadata": {},
   "source": [
    "##  Which invoices had the highest number of items?"
   ]
  },
  {
   "cell_type": "code",
   "execution_count": null,
   "id": "1f9baaa7",
   "metadata": {},
   "outputs": [],
   "source": [
    "inv_counts = df['Invoice'].value_counts().sort_values(ascending=False).iloc[0:15]\n",
    "plt.figure(figsize=(18,6))\n",
    "sns.barplot(x=inv_counts.index, y=inv_counts.values, palette=sns.color_palette(\"BuGn_d\"))\n",
    "plt.ylabel(\"Counts\")\n",
    "plt.title(\"Which invoices had the most items?\");\n",
    "plt.xticks(rotation=90);"
   ]
  },
  {
   "cell_type": "code",
   "execution_count": null,
   "id": "fda0a9c8",
   "metadata": {},
   "outputs": [],
   "source": []
  },
  {
   "cell_type": "code",
   "execution_count": null,
   "id": "c77d0847",
   "metadata": {},
   "outputs": [],
   "source": []
  },
  {
   "cell_type": "code",
   "execution_count": null,
   "id": "7728e2a4",
   "metadata": {},
   "outputs": [],
   "source": [
    "df[df['InvoiceNo'].str.startswith('C')].describe()"
   ]
  },
  {
   "cell_type": "code",
   "execution_count": null,
   "id": "7e6aad27",
   "metadata": {},
   "outputs": [],
   "source": [
    "Looks like Invoices that start with 'C' are the \"Canceling\"/\"Returning\" invoices. This resolves the mystery of negative quantities.\n",
    "\n",
    "Although, we should've gotten deeper into the analysis of those returns, for the sake of simplicity let's just ignore those values for the moment.\n",
    "\n",
    "We can actually start a separate project based on that data and predict the returning/canceling rates for the stor"
   ]
  },
  {
   "cell_type": "markdown",
   "id": "3fb9f984",
   "metadata": {},
   "source": [
    "#### Analyzing \"Description\" feature II"
   ]
  },
  {
   "cell_type": "code",
   "execution_count": null,
   "id": "768e756f",
   "metadata": {},
   "outputs": [],
   "source": [
    "df[~df['Description'].str.isupper()]['Description'].value_counts().head()"
   ]
  },
  {
   "cell_type": "code",
   "execution_count": null,
   "id": "f7489db0",
   "metadata": {},
   "outputs": [],
   "source": [
    "# Not full upper case items\n",
    "lcase_counts = df[~df['Description'].str.isupper()]['Description'].value_counts().sort_values(ascending=False).iloc[0:15]\n",
    "plt.figure(figsize=(18,6))\n",
    "sns.barplot(x=lcase_counts.index, y=lcase_counts.values, palette=sns.color_palette(\"hls\", 15))\n",
    "plt.ylabel(\"Counts\")\n",
    "plt.title(\"Not full upper case items\");\n",
    "plt.xticks(rotation=90);"
   ]
  },
  {
   "cell_type": "code",
   "execution_count": null,
   "id": "1c5f3b44",
   "metadata": {},
   "outputs": [],
   "source": []
  },
  {
   "cell_type": "markdown",
   "id": "367bbf6d",
   "metadata": {},
   "source": [
    "#### Analyzing Invoice feature II"
   ]
  },
  {
   "cell_type": "code",
   "execution_count": 20,
   "id": "eee0bd5b",
   "metadata": {},
   "outputs": [
    {
     "ename": "ValueError",
     "evalue": "Cannot mask with non-boolean array containing NA / NaN values",
     "output_type": "error",
     "traceback": [
      "\u001b[1;31m---------------------------------------------------------------------------\u001b[0m",
      "\u001b[1;31mValueError\u001b[0m                                Traceback (most recent call last)",
      "\u001b[1;32m~\\AppData\\Local\\Temp/ipykernel_31544/2009012378.py\u001b[0m in \u001b[0;36m<module>\u001b[1;34m\u001b[0m\n\u001b[1;32m----> 1\u001b[1;33m \u001b[0mdf\u001b[0m\u001b[1;33m[\u001b[0m\u001b[0mdf\u001b[0m\u001b[1;33m[\u001b[0m\u001b[1;34m'Invoice'\u001b[0m\u001b[1;33m]\u001b[0m\u001b[1;33m.\u001b[0m\u001b[0mstr\u001b[0m\u001b[1;33m.\u001b[0m\u001b[0mstartswith\u001b[0m\u001b[1;33m(\u001b[0m\u001b[1;34m'C'\u001b[0m\u001b[1;33m)\u001b[0m\u001b[1;33m]\u001b[0m\u001b[1;33m.\u001b[0m\u001b[0mdescribe\u001b[0m\u001b[1;33m(\u001b[0m\u001b[1;33m)\u001b[0m\u001b[1;33m\u001b[0m\u001b[1;33m\u001b[0m\u001b[0m\n\u001b[0m",
      "\u001b[1;32mC:\\ProgramData\\Anaconda3\\lib\\site-packages\\pandas\\core\\frame.py\u001b[0m in \u001b[0;36m__getitem__\u001b[1;34m(self, key)\u001b[0m\n\u001b[0;32m   3446\u001b[0m \u001b[1;33m\u001b[0m\u001b[0m\n\u001b[0;32m   3447\u001b[0m         \u001b[1;31m# Do we have a (boolean) 1d indexer?\u001b[0m\u001b[1;33m\u001b[0m\u001b[1;33m\u001b[0m\u001b[0m\n\u001b[1;32m-> 3448\u001b[1;33m         \u001b[1;32mif\u001b[0m \u001b[0mcom\u001b[0m\u001b[1;33m.\u001b[0m\u001b[0mis_bool_indexer\u001b[0m\u001b[1;33m(\u001b[0m\u001b[0mkey\u001b[0m\u001b[1;33m)\u001b[0m\u001b[1;33m:\u001b[0m\u001b[1;33m\u001b[0m\u001b[1;33m\u001b[0m\u001b[0m\n\u001b[0m\u001b[0;32m   3449\u001b[0m             \u001b[1;32mreturn\u001b[0m \u001b[0mself\u001b[0m\u001b[1;33m.\u001b[0m\u001b[0m_getitem_bool_array\u001b[0m\u001b[1;33m(\u001b[0m\u001b[0mkey\u001b[0m\u001b[1;33m)\u001b[0m\u001b[1;33m\u001b[0m\u001b[1;33m\u001b[0m\u001b[0m\n\u001b[0;32m   3450\u001b[0m \u001b[1;33m\u001b[0m\u001b[0m\n",
      "\u001b[1;32mC:\\ProgramData\\Anaconda3\\lib\\site-packages\\pandas\\core\\common.py\u001b[0m in \u001b[0;36mis_bool_indexer\u001b[1;34m(key)\u001b[0m\n\u001b[0;32m    137\u001b[0m                     \u001b[1;31m# Don't raise on e.g. [\"A\", \"B\", np.nan], see\u001b[0m\u001b[1;33m\u001b[0m\u001b[1;33m\u001b[0m\u001b[0m\n\u001b[0;32m    138\u001b[0m                     \u001b[1;31m#  test_loc_getitem_list_of_labels_categoricalindex_with_na\u001b[0m\u001b[1;33m\u001b[0m\u001b[1;33m\u001b[0m\u001b[0m\n\u001b[1;32m--> 139\u001b[1;33m                     \u001b[1;32mraise\u001b[0m \u001b[0mValueError\u001b[0m\u001b[1;33m(\u001b[0m\u001b[0mna_msg\u001b[0m\u001b[1;33m)\u001b[0m\u001b[1;33m\u001b[0m\u001b[1;33m\u001b[0m\u001b[0m\n\u001b[0m\u001b[0;32m    140\u001b[0m                 \u001b[1;32mreturn\u001b[0m \u001b[1;32mFalse\u001b[0m\u001b[1;33m\u001b[0m\u001b[1;33m\u001b[0m\u001b[0m\n\u001b[0;32m    141\u001b[0m             \u001b[1;32mreturn\u001b[0m \u001b[1;32mTrue\u001b[0m\u001b[1;33m\u001b[0m\u001b[1;33m\u001b[0m\u001b[0m\n",
      "\u001b[1;31mValueError\u001b[0m: Cannot mask with non-boolean array containing NA / NaN values"
     ]
    }
   ],
   "source": [
    "df[df['Invoice'].str.startswith('C')].describe()"
   ]
  }
 ],
 "metadata": {
  "kernelspec": {
   "display_name": "Python 3 (ipykernel)",
   "language": "python",
   "name": "python3"
  },
  "language_info": {
   "codemirror_mode": {
    "name": "ipython",
    "version": 3
   },
   "file_extension": ".py",
   "mimetype": "text/x-python",
   "name": "python",
   "nbconvert_exporter": "python",
   "pygments_lexer": "ipython3",
   "version": "3.9.7"
  }
 },
 "nbformat": 4,
 "nbformat_minor": 5
}
